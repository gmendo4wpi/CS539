{
  "cells": [
    {
      "cell_type": "markdown",
      "source": [
        "#Giorgio Mendoza\n",
        "#CS539-F23-F02\n",
        "#Dr. J. Sethi\n",
        "#Lab: Week 7: SciKit\n"
      ],
      "metadata": {
        "id": "lSkAyYXpj2Ic"
      }
    },
    {
      "cell_type": "markdown",
      "metadata": {
        "id": "kDoFjFaiR2K8"
      },
      "source": [
        "\n",
        "\n",
        "# LAB 2-1: Exploratory Data Analysis\n",
        "\n",
        "\n",
        "## Overview\n",
        "\n",
        "Exploratory Data Analysis (EDA) is the process of examining and visualizing a novel dataset to understand its characteristics and patterns, before attempting more formal analysis.\n",
        "\n",
        "# Shark Tank Introduction\n",
        "\n",
        "_Shark Tank_ is a reality TV show. Contestants present their idea for a company to a panel of investors (a.k.a. \"sharks\"), who then decide whether or not to invest in that company.  The investors give a certain amount of money in exchange for a percentage stake in the company (\"equity\"). If you are not familiar with the show, you may want to watch part of an episode [here](http://abc.go.com/shows/shark-tank) to get a sense of how it works.\n",
        "\n",
        "The data that you will examine in this lab contains data about all contestants from the first 6 seasons of the show, including:\n",
        "- the name and industry of the proposed company\n",
        "- whether or not it was funded (i.e., the \"Deal\" column)\n",
        "- which sharks chose to invest in the venture (N.B. There are 7 regular sharks, not including \"Guest\". Each shark has a column in the data set, labeled by their last name.)\n",
        "- if funded, the amount of money the sharks put in and the percentage equity they got in return\n",
        "\n",
        "To earn full credit on this lab, you should:\n",
        "- use built-in `pandas` methods (like `.sum()` and `.max()`) instead of writing a for loop over a `DataFrame` or `Series`\n",
        "- use the split-apply-combine pattern wherever possible\n",
        "\n",
        "Of course, if you can't think of a vectorized solution, a `for` loop is still better than no solution at all!"
      ]
    },
    {
      "cell_type": "code",
      "execution_count": null,
      "metadata": {
        "id": "AEYMvtMMR2LC"
      },
      "outputs": [],
      "source": [
        "import pandas as pd"
      ]
    },
    {
      "cell_type": "markdown",
      "metadata": {
        "id": "O2ot5crNR2LE"
      },
      "source": [
        "## Question 0. Getting and Cleaning the Data\n",
        "\n",
        "The data is stored in the CSV file https://raw.githubusercontent.com/dlsun/data-science-book/master/data/sharktank.csv. Read in the data into a Pandas `DataFrame`."
      ]
    },
    {
      "cell_type": "code",
      "execution_count": 3,
      "metadata": {
        "colab": {
          "base_uri": "https://localhost:8080/"
        },
        "id": "fTC7YfoKR2LE",
        "outputId": "dfa8dfdd-590c-4333-8cd1-0c07ae5e5a4d"
      },
      "outputs": [
        {
          "output_type": "stream",
          "name": "stdout",
          "text": [
            "Drive already mounted at /content/drive; to attempt to forcibly remount, call drive.mount(\"/content/drive\", force_remount=True).\n"
          ]
        }
      ],
      "source": [
        "import pandas as pd\n",
        "import matplotlib.pyplot as plt\n",
        "from google.colab import drive\n",
        "drive.mount('/content/drive')\n",
        "#load the dataset\n",
        "data_frame = pd.read_csv('/content/drive/MyDrive/Colab Notebooks/sharktank.csv')"
      ]
    },
    {
      "cell_type": "markdown",
      "metadata": {
        "id": "dMLd1rjRR2LF"
      },
      "source": [
        "There is one column for each of the sharks. A 1 indicates that they chose to invest in that company, while a missing value indicates that they did not choose to invest in that company. Notice that these missing values show up as NaNs when we read in the data. Fill in these missing values with zeros. Other columns may also contain NaNs; be careful not to fill those columns with zeros, or you may end up with strange results down the line."
      ]
    },
    {
      "cell_type": "code",
      "execution_count": 38,
      "metadata": {
        "id": "TUvLGfCER2LF"
      },
      "outputs": [],
      "source": [
        "import pandas as pd\n",
        "import matplotlib.pyplot as plt\n",
        "from google.colab import drive\n",
        "#drive.mount('/content/drive')\n",
        "data_frame = pd.read_csv('/content/drive/MyDrive/Colab Notebooks/sharktank.csv')\n",
        "#print(data_frame.columns)\n",
        "shark_columns = ['Corcoran', 'Cuban', 'Greiner', 'Herjavec', 'John', 'O\\'Leary']\n",
        "\n",
        "#fill missing values (NaNs) in shark columns with zeros\n",
        "data_frame[shark_columns] = data_frame[shark_columns].fillna(0)"
      ]
    },
    {
      "cell_type": "markdown",
      "metadata": {
        "id": "KG5uaLLfR2LF"
      },
      "source": [
        "Notice that Amount and Equity are currently being treated as categorical variables (`dtype: object`). Can you figure out why this is? Clean up these columns and cast them to numeric types (i.e., a `dtype` of `int` or `float`) because we'll need to perform mathematical operations on these columns."
      ]
    },
    {
      "cell_type": "markdown",
      "source": [
        "he 'Amount' and 'Equity' columns are being treated as categorical variables (dtype: object) because their values likely contain non-numeric characters such as currency symbols (e.g., \"$\") or percentage signs (e.g., \"%\"). First, we have to clean up the columns and cast them to number types."
      ],
      "metadata": {
        "id": "1ie4Dg77XL65"
      }
    },
    {
      "cell_type": "code",
      "execution_count": 27,
      "metadata": {
        "id": "9C3MJezfR2LG"
      },
      "outputs": [],
      "source": [
        "#clean up 'Amount' column and convert it to a numeric type (float)\n",
        "\n",
        "data_frame['Amount'] = data_frame['Amount'].str.replace('[\\$,]', '', regex=True).astype(float)\n",
        "\n",
        "#clean up 'Equity' column and convert it to a numeric type (float)\n",
        "data_frame['Equity'] = data_frame['Equity'].str.replace('%', '', regex=True).astype(float)"
      ]
    },
    {
      "cell_type": "markdown",
      "metadata": {
        "id": "lrdOj6ooR2LH"
      },
      "source": [
        "## Question 1. Which Company was Worth the Most?\n",
        "\n",
        "The valuation of a company is how much it is worth. If someone invests \\$10,000 for a 40\\% equity stake in the company, then this means the company must be valued at \\$25,000, since 40% of \\$25,000 is \\$10,000.\n",
        "\n",
        "Calculate the valuation of each company that was funded. Which company was most valuable? Is it the same as the company that received the largest total investment from the sharks?"
      ]
    },
    {
      "cell_type": "code",
      "execution_count": 20,
      "metadata": {
        "colab": {
          "base_uri": "https://localhost:8080/"
        },
        "id": "eX6JgY8dR2LI",
        "outputId": "197b6faa-2cc8-499f-e7d2-ba043e2d6a02"
      },
      "outputs": [
        {
          "output_type": "stream",
          "name": "stdout",
          "text": [
            "Most Valuable Company:\n",
            "              Company     Valuation\n",
            "312  The Wall DoctoRX  1.500000e+17\n",
            "\n",
            "Company with Largest Total Investment:\n",
            "    Company     Amount\n",
            "483  AirCar  5000000.0\n"
          ]
        }
      ],
      "source": [
        "#get valuation for each funded company, handle cases where equity is zero\n",
        "data_frame['Valuation'] = data_frame['Amount'] / (data_frame['Equity'].replace({0: 1e-10}) / 100)\n",
        "\n",
        "#get most valuable company\n",
        "most_valuable_company = data_frame[data_frame['Valuation'] == data_frame['Valuation'].max()]\n",
        "\n",
        "#find company that received largest total investment from sharks\n",
        "largest_investment_company = data_frame[data_frame['Amount'] == data_frame['Amount'].max()]\n",
        "\n",
        "#display most valuable company and largest investment company\n",
        "print(\"Most Valuable Company:\")\n",
        "print(most_valuable_company[['Company', 'Valuation']])\n",
        "\n",
        "print(\"\\nCompany with Largest Total Investment:\")\n",
        "print(largest_investment_company[['Company', 'Amount']])"
      ]
    },
    {
      "cell_type": "markdown",
      "source": [
        "The company The Wall Doctor has the highest valuation with 1.5e+17.\n",
        "However, the company that received the largest investment was AirCar with $5,000,000 from the sharks."
      ],
      "metadata": {
        "id": "Wh7E0cttZ1Zd"
      }
    },
    {
      "cell_type": "markdown",
      "metadata": {
        "id": "MCWdAmcuR2LJ"
      },
      "source": [
        "## Question 2. Which Shark Invested the Most?\n",
        "\n",
        "Calculate the total amount of money that each shark invested over the 6 seasons. Which shark invested the most total money over the 6 seasons? Avoid loops.\n",
        "\n",
        "_Hint:_ If $n$ sharks funded a given venture, then the amount that each shark invested is the total amount divided by $n$."
      ]
    },
    {
      "cell_type": "code",
      "execution_count": 48,
      "metadata": {
        "colab": {
          "base_uri": "https://localhost:8080/"
        },
        "id": "yC6okwv9R2LJ",
        "outputId": "73d6a2ab-87b9-4112-a8b2-7bf4573ea3f5"
      },
      "outputs": [
        {
          "output_type": "stream",
          "name": "stdout",
          "text": [
            "Shark Who Invested the Most Total Money:\n",
            "Cuban\n"
          ]
        }
      ],
      "source": [
        "import pandas as pd\n",
        "\n",
        "data_frame = pd.read_csv('/content/drive/MyDrive/Colab Notebooks/sharktank.csv')\n",
        "\n",
        "#clean up 'Amount' column and convert it to a numeric type (float)\n",
        "data_frame['Amount'] = data_frame['Amount'].str.replace('[\\$,]', '', regex=True).astype(float)\n",
        "\n",
        "#make columns that represents sharks\n",
        "shark_columns = ['Corcoran', 'Cuban', 'Greiner', 'Herjavec', 'John', \"O'Leary\"]\n",
        "\n",
        "#get total investment for each shark\n",
        "data_frame['TotalInvestment'] = data_frame[shark_columns].sum(axis=1)\n",
        "\n",
        "#get shark who invested most total money\n",
        "most_invested_shark = data_frame[shark_columns].sum().idxmax()\n",
        "\n",
        "print(\"Shark Who Invested the Most Total Money:\")\n",
        "print(most_invested_shark)\n"
      ]
    },
    {
      "cell_type": "markdown",
      "source": [
        "According to the code above, the shark that invested the most was Mark Cuban."
      ],
      "metadata": {
        "id": "cS4j5cb9eaYH"
      }
    },
    {
      "cell_type": "markdown",
      "metadata": {
        "id": "B4lHDuqyR2LK"
      },
      "source": [
        "## Question 3. Do the Sharks Prefer Certain Industries?\n",
        "\n",
        "Calculate the funding rate (the proportion of companies that were funded) for each industry. Make a visualization showing this information."
      ]
    },
    {
      "cell_type": "code",
      "execution_count": 49,
      "metadata": {
        "colab": {
          "base_uri": "https://localhost:8080/",
          "height": 571
        },
        "id": "z2MrxBviR2LK",
        "outputId": "9017d2d7-7afd-42c7-e309-6ca2b3615ceb"
      },
      "outputs": [
        {
          "output_type": "display_data",
          "data": {
            "text/plain": [
              "<Figure size 1200x600 with 1 Axes>"
            ],
            "image/png": "[encoded data removed]"
          },
          "metadata": {}
        }
      ],
      "source": [
        "import pandas as pd\n",
        "import matplotlib.pyplot as plt\n",
        "\n",
        "data_frame = pd.read_csv('/content/drive/MyDrive/Colab Notebooks/sharktank.csv')\n",
        "\n",
        "#calculating funding rate for each industry\n",
        "industry_funding_rate = data_frame.groupby('Industry')['Deal'].apply(lambda x: (x == 'Yes').sum() / x.count()).reset_index()\n",
        "industry_funding_rate.columns = ['Industry', 'FundingRate']\n",
        "\n",
        "#sorting industries by funding rate\n",
        "industry_funding_rate = industry_funding_rate.sort_values(by='FundingRate', ascending=False)\n",
        "\n",
        "#bar plot to visualize the funding rate\n",
        "plt.figure(figsize=(12, 6))\n",
        "plt.bar(industry_funding_rate['Industry'], industry_funding_rate['FundingRate'])\n",
        "plt.xticks(rotation=90)\n",
        "plt.xlabel('Industry')\n",
        "plt.ylabel('Funding Rate')\n",
        "plt.title('Funding Rate by Industry')\n",
        "plt.tight_layout()\n",
        "plt.show()"
      ]
    },
    {
      "cell_type": "markdown",
      "source": [
        "As the plot shows above, the sharks prefer more the fitness/sports industries. There are about 6 other industries that have similar funding rate. The industry less prefered is the business service."
      ],
      "metadata": {
        "id": "d3T0paLnhfLp"
      }
    },
    {
      "cell_type": "markdown",
      "metadata": {
        "id": "Xgp-IExqR2LL"
      },
      "source": [
        "\n",
        "## Responses\n",
        "\n",
        "Please enter your responses in this notebook itself by creating new text or code cells, as needed."
      ]
    },
    {
      "cell_type": "markdown",
      "metadata": {
        "id": "uDxB59fYR2LL"
      },
      "source": [
        "# Submission Instructions\n",
        "\n",
        "Once you have filled out the Colab notebook completely, you are ready to submit. Your final submission will consist of the `.ipynb` and the `.pdf` files, as described below:\n",
        "\n",
        "1. Download the Google Colab notebook as an iPython notebook\n",
        "   * You can do this by going to *File \\> Download .ipynb*\n",
        "2. Print out a PDF of your Colab notebook.\n",
        "   * In Google Chrome, you can do this by going to *File \\> Print* and then choosing *Save to PDF*.\n",
        "   * **Make sure you have run all cells first.**\n",
        "   * Ensure you've closed the table of contents sidebar before you print so we can easily see your work and output.\n",
        "3. Submit **both** the `.ipynb` notebook and the `.pdf` files via Blackboard or directly via the cloud using the Google Integration with Blackboard (if applicable).\n",
        "\n",
        "---"
      ]
    }
  ],
  "metadata": {
    "colab": {
      "provenance": []
    },
    "language_info": {
      "name": "python"
    },
    "kernelspec": {
      "name": "python3",
      "display_name": "Python 3"
    }
  },
  "nbformat": 4,
  "nbformat_minor": 0
}