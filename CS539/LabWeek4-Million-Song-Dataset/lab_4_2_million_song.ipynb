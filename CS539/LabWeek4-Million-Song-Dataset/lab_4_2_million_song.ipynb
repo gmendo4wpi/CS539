{
  "cells": [
    {
      "cell_type": "markdown",
      "source": [
        "#Giorgio Mendoza\n",
        "#CS539-F23-F02\n",
        "#Dr. J. Sethi"
      ],
      "metadata": {
        "id": "hejbLSsOYONY"
      }
    },
    {
      "cell_type": "markdown",
      "metadata": {
        "id": "_7ttcwBlttn0"
      },
      "source": [
        "# Lab 4-2: Databases, Custom Functions, and the Million-Song Dataset\n",
        "\n",
        "## The Million-Song Dataset\n",
        "\n",
        "The [Million-Song Dataset](https://labrosa.ee.columbia.edu/millionsong/) is a collection of metadata and audio features for a million pop songs from the past 50+ years. It's a whopping 280GB to download! But there are a variety of subsets -- and joins with other data sources like user-generated genre tags from Tagtraum and MusicBrainz -- available from [their website](https://labrosa.ee.columbia.edu/millionsong/pages/getting-dataset#subset). It's a great place to start when exploring musical metadata and what goes into an audience's conception of genre.\n",
        "\n",
        "We'll start by looking at one of the smaller files from that dataset: `artist_term.db`. This is an SQLite database with multiple tables, containing information about user-generated genre tags applied to artists in the Million-Song Dataset (MSD, from now on). Here are the names of the 5 tables contained in that database.\n",
        "\n",
        "Import the requisite libraries, and create a SQL database engine for `artist_term.db`.\n",
        "\n",
        "- Import `pandas` as `pd` and `create_engine` from `sqlalchemy`.\n",
        "- Create a database engine called `engine` from the SQLite database `artist_term.db`.\n",
        "- Print the table names from that database.\n",
        "\n",
        "<hr />\n",
        "\n",
        "\n",
        "## Some Good References\n",
        "\n",
        "Here is a helpful [Pandas cheatsheet](https://github.com/pandas-dev/pandas/blob/master/doc/cheatsheet/Pandas_Cheat_Sheet.pdf) to remind you of some of the basic commands and workflows we'll be exploring here. Another great reference for pertinent skills and terms is introduced in [Python Data Science Toolbox, Part 1](https://campus.datacamp.com/courses/python-data-science-toolbox-part-1/) and and [Importing Data in Python, Part 1](https://campus.datacamp.com/courses/importing-data-in-python-part-1). Please do feel free to review the slides and exercises there as you go through this project. You can also see some great student projects on this [class blog](https://medium.com/modeling-music)."
      ]
    },
    {
      "cell_type": "code",
      "execution_count": 3,
      "metadata": {
        "colab": {
          "base_uri": "https://localhost:8080/",
          "height": 0
        },
        "id": "3Qh61Onittn6",
        "outputId": "5d69e011-4ebc-4e96-db73-ffcea0acbdaa"
      },
      "outputs": [
        {
          "output_type": "stream",
          "name": "stdout",
          "text": [
            "Drive already mounted at /content/drive; to attempt to forcibly remount, call drive.mount(\"/content/drive\", force_remount=True).\n",
            "['artist_mbtag', 'artist_term', 'artists', 'mbtags', 'terms']\n"
          ]
        },
        {
          "output_type": "execute_result",
          "data": {
            "text/plain": [
              "Ellipsis"
            ]
          },
          "metadata": {},
          "execution_count": 3
        }
      ],
      "source": [
        "# Import pandas as pd and create_engine from sqlalchemy\n",
        "from google.colab import drive\n",
        "drive.mount('/content/drive')\n",
        "import random\n",
        "import numpy as np\n",
        "import pandas as pd\n",
        "import csv\n",
        "from sqlalchemy import create_engine, inspect\n",
        "\n",
        "path = \"/content/drive/MyDrive/Colab Notebooks/\"\n",
        "engine_path = \"/content/drive/MyDrive/Colab Notebooks/artist_term.db\"\n",
        "\n",
        "engine = create_engine(f\"sqlite:///{engine_path}\")\n",
        "# Create an inspector\n",
        "inspector = inspect(engine)\n",
        "\n",
        "# Get the table names from the database\n",
        "table_names = inspector.get_table_names()\n",
        "\n",
        "# Print the table names\n",
        "print(table_names)"
      ]
    },
    {
      "cell_type": "markdown",
      "metadata": {
        "id": "QR1UBxBRttn9"
      },
      "source": [
        "## Unpacking genre tags\n",
        "\n",
        "Now let's dig in. The three tables `artists`, `mbtags`, and `terms` contain lists of elements contained in the first two tables, `artist_mbtag` and `artist_term`. We'll dig into the Musicbrainz genre tags linked to artists in the `artist_mbtag` table. Let's now load and display the first few rows of the `artist_mbtag` table.\n",
        "\n",
        "- Use `read_sql_query()` to select *all* records from the `artist_mbtag` table and store the results in a dataframe of the same name.\n",
        "- Print the first 5 rows of `artist_mbtag`.\n",
        "\n",
        "<hr />\n",
        "\n",
        "Be sure to double-check the documentation for `read_sql_query()` (or your notes)."
      ]
    },
    {
      "cell_type": "code",
      "execution_count": 14,
      "metadata": {
        "colab": {
          "base_uri": "https://localhost:8080/",
          "height": 0
        },
        "id": "XhZWMpmWttn-",
        "outputId": "147928b5-5a2a-4b16-c2c0-1d8d9827d85d"
      },
      "outputs": [
        {
          "output_type": "stream",
          "name": "stdout",
          "text": [
            "Drive already mounted at /content/drive; to attempt to forcibly remount, call drive.mount(\"/content/drive\", force_remount=True).\n",
            "            artist_id        mbtag\n",
            "0  AR002UA1187B9A637D           uk\n",
            "1  AR002UA1187B9A637D         rock\n",
            "2  AR002UA1187B9A637D  garage rock\n",
            "3  AR006821187FB5192B         bass\n",
            "4  AR00A6H1187FB5402A      detroit\n"
          ]
        }
      ],
      "source": [
        "from google.colab import drive\n",
        "import sqlite3\n",
        "import pandas as pd\n",
        "\n",
        "drive.mount('/content/drive')\n",
        "db_path = \"/content/drive/MyDrive/Colab Notebooks/artist_term.db\"\n",
        "\n",
        "# Connect to the SQLite database\n",
        "conn = sqlite3.connect(db_path)\n",
        "\n",
        "# Create a cursor object\n",
        "cursor = conn.cursor()\n",
        "\n",
        "# Execute a query to fetch all records from the artist_mbtag table\n",
        "query = \"SELECT * FROM artist_mbtag\"\n",
        "cursor.execute(query)\n",
        "\n",
        "# Fetch all results into a DataFrame\n",
        "artist_mbtag = pd.DataFrame(cursor.fetchall(), columns=[column[0] for column in cursor.description])\n",
        "\n",
        "# Print the first 5 rows of artist_mbtag\n",
        "print(artist_mbtag.head())\n",
        "\n",
        "# Close the database connection\n",
        "conn.close()"
      ]
    },
    {
      "cell_type": "markdown",
      "metadata": {
        "id": "MNOaz5Vdttn_"
      },
      "source": [
        "## Finding artist names\n",
        "\n",
        "There is some interesting data in here but those `artist_id` labels aren't very helpful. Thankfully, MSD has another file that matches the unique artist IDs to the artist's names.\n",
        "\n",
        "Import `unique_artists.txt` into a dataframe `artist_meta` and display the first few rows.\n",
        "\n",
        "- Use `read_csv()` to import `unique_artists.txt` into a dataframe named `artist_meta`.\n",
        "- [According to MSD](https://labrosa.ee.columbia.edu/millionsong/pages/getting-dataset#subset), the fields in this file are separated by the string `<SEP>`. The file has no header, and we only need the first column (artist ID) and the fourth column (artist name) for our analysis so please set those parameters accordingly.\n",
        "- Rename the columns to `artist_id` and `artist_name`, respectively.\n",
        "\n",
        "<hr />\n",
        "\n",
        "Remember that `.columns` takes a list. And it will be clear later (if not already) why we need to rename `artist_id` in particular.\n",
        "\n",
        "Also, note that because of the `<` and `>` in the delimiter, Python may produce a warning message. Don't worry about that, as long as it also produces the expected output. (Which is... -- remember: always evaluate your output before going on, making sure it matches what you predicted or expected, or if you didn't know what to expect, that it makes sense in context once you see it.)"
      ]
    },
    {
      "cell_type": "code",
      "execution_count": 20,
      "metadata": {
        "colab": {
          "base_uri": "https://localhost:8080/",
          "height": 0
        },
        "id": "y0Ddf8ghttoA",
        "outputId": "3a002dad-348f-46f4-92c0-0b5ba4457b32"
      },
      "outputs": [
        {
          "output_type": "stream",
          "name": "stdout",
          "text": [
            "Drive already mounted at /content/drive; to attempt to forcibly remount, call drive.mount(\"/content/drive\", force_remount=True).\n"
          ]
        },
        {
          "output_type": "stream",
          "name": "stderr",
          "text": [
            "<ipython-input-20-fed94b6d5277>:26: ParserWarning: Falling back to the 'python' engine because the 'c' engine does not support regex separators (separators > 1 char and different from '\\s+' are interpreted as regex); you can avoid this warning by specifying engine='python'.\n",
            "  artist_meta = pd.read_csv(csv_path, sep='<SEP>', header=None, usecols=[0, 3])\n"
          ]
        },
        {
          "output_type": "stream",
          "name": "stdout",
          "text": [
            "            artist_id                                        artist_name\n",
            "0  AR002UA1187B9A637D                                       The Bristols\n",
            "1  AR003FB1187B994355                                           The Feds\n",
            "2  AR006821187FB5192B  Stephen Varcoe/Choir of King's College_ Cambri...\n",
            "3  AR009211187B989185                                   Carroll Thompson\n",
            "4  AR009SZ1187B9A73F4                                          Gorodisch\n"
          ]
        }
      ],
      "source": [
        "from google.colab import drive\n",
        "import sqlite3\n",
        "import pandas as pd\n",
        "\n",
        "drive.mount('/content/drive')\n",
        "db_path = \"/content/drive/MyDrive/Colab Notebooks/artist_term.db\"\n",
        "csv_path = \"/content/drive/MyDrive/Colab Notebooks/unique_artists.txt\"\n",
        "\n",
        "# Connect to the SQLite database\n",
        "conn = sqlite3.connect(db_path)\n",
        "\n",
        "# Create a cursor object\n",
        "cursor = conn.cursor()\n",
        "\n",
        "# Execute a query to fetch all records from the artist_mbtag table\n",
        "query = \"SELECT * FROM artist_mbtag\"\n",
        "cursor.execute(query)\n",
        "\n",
        "# Fetch all results into a DataFrame\n",
        "artist_mbtag = pd.DataFrame(cursor.fetchall(), columns=[column[0] for column in cursor.description])\n",
        "\n",
        "# Load a dataframe that connects artist IDs with artist names, and rename columns\n",
        "artist_meta = pd.read_csv(csv_path, sep='<SEP>', header=None, usecols=[0, 3])\n",
        "artist_meta.columns = ['artist_id', 'artist_name']\n",
        "\n",
        "# Display the first 5 rows of 'artist_meta'\n",
        "print(artist_meta.head())\n",
        "conn.close()"
      ]
    },
    {
      "cell_type": "markdown",
      "metadata": {
        "id": "LtLgXfAQttoB"
      },
      "source": [
        "## Merging artist names with their genre tags\n",
        "\n",
        "Now that we've loaded the SQLite database with artist tags and the `<SEP>`-delimited text file with artist names, we need to join them together to make them useful. Here's what it looks like when we connect artists with the various genres users have attributed to their music.\n",
        "\n",
        "Join the `artist_mbtag` and `artist_meta` dataframes together, creating a new dataframe `artists` that links each band name with each genre tag users associated with it.\n",
        "\n",
        "- Use `pd.merge()` to join the two dataframes together. This is a new function but a really important one (see below). The first two arguments should be the names of the two dataframes to join. The `how=` argument specifies the kind of join -- in our case, `inner`.\n",
        "- Specify the field to merge by with the `on=` argument: `artist_id`. (This is why we renamed the column when we imported it!)\n",
        "- Remove the no-longer-needed column `artist_id` by subsetting `artists` to include only the `artist_name` and `mbtag` columns.\n",
        "- Display the head of `artists` to confirm a successful merge.\n",
        "\n",
        "<hr />\n",
        "\n",
        "Were the two tables we're interested in part of the same database, we could use `INNER JOIN` directly in SQL. However, because they are in different formats, and we've now imported them both into `pandas` dataframes, we can use the `pandas` function `merge()` to do the same thing.\n",
        "\n",
        "We'll just stick with `inner` joins for now, but we'll go over a deeper explanation of different join types later in the course."
      ]
    },
    {
      "cell_type": "code",
      "execution_count": 21,
      "metadata": {
        "colab": {
          "base_uri": "https://localhost:8080/",
          "height": 0
        },
        "id": "Paq0gqD6ttoD",
        "outputId": "24a76664-9b12-455e-fd91-633c2297a4cc"
      },
      "outputs": [
        {
          "output_type": "stream",
          "name": "stdout",
          "text": [
            "Drive already mounted at /content/drive; to attempt to forcibly remount, call drive.mount(\"/content/drive\", force_remount=True).\n",
            "                                         artist_name        mbtag\n",
            "0                                       The Bristols           uk\n",
            "1                                       The Bristols         rock\n",
            "2                                       The Bristols  garage rock\n",
            "3  Stephen Varcoe/Choir of King's College_ Cambri...         bass\n",
            "4                                        The Meatmen      detroit\n"
          ]
        },
        {
          "output_type": "stream",
          "name": "stderr",
          "text": [
            "<ipython-input-21-36f1e125a47e>:26: ParserWarning: Falling back to the 'python' engine because the 'c' engine does not support regex separators (separators > 1 char and different from '\\s+' are interpreted as regex); you can avoid this warning by specifying engine='python'.\n",
            "  artist_meta = pd.read_csv(csv_path, sep='<SEP>', header=None, usecols=[0, 3])\n"
          ]
        }
      ],
      "source": [
        "from google.colab import drive\n",
        "import sqlite3\n",
        "import pandas as pd\n",
        "\n",
        "drive.mount('/content/drive')\n",
        "db_path = \"/content/drive/MyDrive/Colab Notebooks/artist_term.db\"\n",
        "csv_path = \"/content/drive/MyDrive/Colab Notebooks/unique_artists.txt\"\n",
        "\n",
        "# Connect to the SQLite database\n",
        "conn = sqlite3.connect(db_path)\n",
        "\n",
        "# Create a cursor object\n",
        "cursor = conn.cursor()\n",
        "\n",
        "# Execute a query to fetch all records from the artist_mbtag table\n",
        "query = \"SELECT * FROM artist_mbtag\"\n",
        "cursor.execute(query)\n",
        "\n",
        "# Fetch all results into a DataFrame\n",
        "artist_mbtag = pd.DataFrame(cursor.fetchall(), columns=[column[0] for column in cursor.description])\n",
        "\n",
        "# Load a dataframe that connects artist IDs with artist names, and rename columns\n",
        "artist_meta = pd.read_csv(csv_path, sep='<SEP>', header=None, usecols=[0, 3])\n",
        "artist_meta.columns = ['artist_id', 'artist_name']\n",
        "# Merge artist tags with artist names, joining on the common field 'artist_id'\n",
        "artists = pd.merge(artist_mbtag, artist_meta, how='inner', on='artist_id')\n",
        "\n",
        "# Clean artists, removing the no longer needed column 'artist_id'\n",
        "artists = artists[['artist_name', 'mbtag']]\n",
        "\n",
        "# Display the first 5 rows of 'artist_meta'\n",
        "print(artists.head())\n",
        "conn.close()"
      ]
    },
    {
      "cell_type": "code",
      "source": [],
      "metadata": {
        "id": "Usq1msiDy-Om"
      },
      "execution_count": null,
      "outputs": []
    },
    {
      "cell_type": "markdown",
      "metadata": {
        "id": "GHb7EF1NttoF"
      },
      "source": [
        "## Genre tags by band\n",
        "\n",
        "Let's look up some of our favorite artists, and see which genres they are associated with in MSD and Musicbrainz! Let's create a custom function `tags_for_band()` that returns a list of genre tags for a specified artist.\n",
        "\n",
        "- This function takes two arguments: `dataframe` and `band`. Assuming a user provides the dataframe `artists`, define `tags` so that it returns a list of all the tags associated with the specified `band`.\n",
        "- Test it out with a few different artist names, and see if the results make sense to you. One example in the dataset is provided."
      ]
    },
    {
      "cell_type": "code",
      "execution_count": 36,
      "metadata": {
        "colab": {
          "base_uri": "https://localhost:8080/",
          "height": 0
        },
        "id": "uRB2FVvbttoG",
        "outputId": "094cf6f9-f504-49c8-e5bb-0de5aa732f56"
      },
      "outputs": [
        {
          "output_type": "stream",
          "name": "stdout",
          "text": [
            "Drive already mounted at /content/drive; to attempt to forcibly remount, call drive.mount(\"/content/drive\", force_remount=True).\n"
          ]
        },
        {
          "output_type": "stream",
          "name": "stderr",
          "text": [
            "<ipython-input-36-5528a9a200c2>:23: ParserWarning: Falling back to the 'python' engine because the 'c' engine does not support regex separators (separators > 1 char and different from '\\s+' are interpreted as regex); you can avoid this warning by specifying engine='python'.\n",
            "  artist_meta = pd.read_csv(csv_path, sep='<SEP>', header=None, usecols=[0, 3])\n"
          ]
        },
        {
          "output_type": "stream",
          "name": "stdout",
          "text": [
            "Tags for David Bowie: ['british', 'uk', 'rock', 'experimental', 'glam rock', 'english', 'classic pop and rock', 'post-disco', 'britannique', 'soul', 'blue-eyed soul', 'pop', 'art rock']\n",
            "Tags for The Beatles: ['british', 'rock', 'pop', 'british invasion', '60s', 'heavy metal', 'classical pop', 'instrumental pop', 'folk-rock', 'pop rock', 'orchestral', 'psychedelic', 'merseybeat', 'rock roll', 'adult alternative pop rock', 'tribute albums', 'british psychedelia', 'orchestral pop', 'singer songwriter', 'indie rock']\n",
            "Tags for Led Zeppelin: ['hard rock', 'rock', 'blues rock', 'british', 'english', 'classic pop and rock', 'uk', 'classic rock', 'folk', 'américain', 'usa', 'american', 'folk rock', 'heavy metal', 'metal']\n"
          ]
        }
      ],
      "source": [
        "from google.colab import drive\n",
        "import sqlite3\n",
        "import pandas as pd\n",
        "\n",
        "drive.mount('/content/drive')\n",
        "db_path = \"/content/drive/MyDrive/Colab Notebooks/artist_term.db\"\n",
        "csv_path = \"/content/drive/MyDrive/Colab Notebooks/unique_artists.txt\"\n",
        "\n",
        "# Connect to the SQLite database\n",
        "conn = sqlite3.connect(db_path)\n",
        "\n",
        "# Create a cursor object\n",
        "cursor = conn.cursor()\n",
        "\n",
        "# Execute a query to fetch all records from the artist_mbtag table\n",
        "query = \"SELECT * FROM artist_mbtag\"\n",
        "cursor.execute(query)\n",
        "\n",
        "# Fetch all results into a DataFrame\n",
        "artist_mbtag = pd.DataFrame(cursor.fetchall(), columns=[column[0] for column in cursor.description])\n",
        "\n",
        "# Load a dataframe that connects artist IDs with artist names, and rename columns\n",
        "artist_meta = pd.read_csv(csv_path, sep='<SEP>', header=None, usecols=[0, 3])\n",
        "artist_meta.columns = ['artist_id', 'artist_name']\n",
        "# Merge artist tags with artist names, joining on the common field 'artist_id'\n",
        "artists = pd.merge(artist_mbtag, artist_meta, how='inner', on='artist_id')\n",
        "\n",
        "# Clean artists, removing the no longer needed column 'artist_id'\n",
        "artists = artists[['artist_name', 'mbtag']]\n",
        "\n",
        "def tags_for_band(dataframe, band):\n",
        "    \"\"\"From a dataframe and a band name, return a list of tags for that band.\"\"\"\n",
        "    tags = dataframe[dataframe['artist_name'] == band]['mbtag'].tolist()\n",
        "    return tags\n",
        "\n",
        "# Test the function with a few different artist names\n",
        "print(\"Tags for David Bowie:\", tags_for_band(artists, 'David Bowie'))\n",
        "print(\"Tags for The Beatles:\", tags_for_band(artists, 'The Beatles'))\n",
        "print(\"Tags for Led Zeppelin:\", tags_for_band(artists, 'Led Zeppelin'))\n",
        "\n",
        "conn.close()\n"
      ]
    },
    {
      "cell_type": "markdown",
      "metadata": {
        "id": "6VseJuH2ttoI"
      },
      "source": [
        "## Bands by genre tag\n",
        "\n",
        "Now let's look up some of our favorite genres and see what artists are represented. Using the same pattern as in the previous task, create a new custom function that returns all the bands associated with a given genre tag."
      ]
    },
    {
      "cell_type": "code",
      "execution_count": 35,
      "metadata": {
        "colab": {
          "base_uri": "https://localhost:8080/",
          "height": 0
        },
        "id": "CkblxW8bttoI",
        "outputId": "cbb78318-803a-4b64-9e30-183480b7f4ea"
      },
      "outputs": [
        {
          "output_type": "stream",
          "name": "stdout",
          "text": [
            "Drive already mounted at /content/drive; to attempt to forcibly remount, call drive.mount(\"/content/drive\", force_remount=True).\n"
          ]
        },
        {
          "output_type": "stream",
          "name": "stderr",
          "text": [
            "<ipython-input-35-05ced5bd6413>:23: ParserWarning: Falling back to the 'python' engine because the 'c' engine does not support regex separators (separators > 1 char and different from '\\s+' are interpreted as regex); you can avoid this warning by specifying engine='python'.\n",
            "  artist_meta = pd.read_csv(csv_path, sep='<SEP>', header=None, usecols=[0, 3])\n"
          ]
        },
        {
          "output_type": "stream",
          "name": "stdout",
          "text": [
            "Bands for glam rock: ['Sparks', 'Alice Cooper', 'Iggy Pop', 'Goldfrapp', 'Whitesnake', 'Simple Kid', 'Sweet', 'David Bowie', 'Queen', 'Brian May', 'Lou Reed', 'Smokie', 'Wizzard', 'Elton John', 'Scissor Sisters', 'Marc Bolan / T. Rex']\n",
            "Bands for punk rock: ['NOFX', 'Me First And The Gimme Gimmes', 'Deborah Harry', 'The Clash', 'Die Toten Hosen', 'AFI', 'The Lemonheads', 'Sonic Youth', 'Bikini Kill', 'Bad Religion', 'Iggy Pop', 'Billy Talent', 'The Hives', 'Blink-182', 'Blood Red Shoes', 'Lita Ford', 'Die Kleinen Götter', 'Tsunami Bomb', 'MxPx', 'The Epoxies', 'Alkaline Trio', 'Jawbreaker', 'Sex Pistols', 'The Replacements', 'Alien Sex Fiend', 'X-Ray Spex', 'Art Brut', 'Pretenders', 'Pennywise', 'Muff Potter', 'Balzac', 'Nina Hagen', 'Gary Numan', 'Sum 41', 'Blondie', 'The Damned', 'The Ramones', 'The Dresden Dolls', '...But Alive', 'Mindless Self Indulgence', 'Grinderman', 'The Offspring', 'New Bomb Turks', 'Chelsea', 'Voodoo Glow Skulls', 'Talking Heads', 'The New York Dolls', 'Cock Sparrer', 'Assorted Jelly Beans', 'Anti-Flag', 'Wire', 'Green Day', 'Wizo', 'World Inferno/Friendship Society_ The', 'Oxymoron', 'Sleater-kinney', 'Siouxsie And The Banshees', 'The Mr. T Experience', 'The Stranglers', \"The Go-Go's\", '28 Days', 'Le Tigre', 'Rise Against']\n",
            "Bands for hip hop: ['D-Sisive', 'Eazy-E', 'The Weathermen', 'Naughty By Nature', 'Freundeskreis', 'Meanest Man Contest', 'MC Eiht', 'Brother Ali', 'Moka Only', 'Kris Kross', 'Monie Love', 'Speech Debelle', 'Dawn', 'Common', 'Sans Pression', 'House Of Pain', 'cirKus feat. Neneh Cherry', 'Aesop Rock', 'El-P', 'J-Live', 'Charlie \"Bird\" Parker', 'Grieves', 'Timide Et Sans Complexe', 'The Pharcyde', 'Dubmatique', 'Rakim', 'SUCH A SURGE', 'Rocca', 'Don Choa', 'Classified', 'Neneh Cherry', 'The Mitchell Brothers', 'Dr.Sound_ Henry Pass', 'Yvon Krevé', 'Passi', 'Saian Supa Crew', 'Styles Of Beyond', 'Afrob feat. Habescha', 'Diskoteka Avariya', 'Chuck D', 'Samy Deluxe', 'Kéry James', 'The Sugarhill Gang', 'Eyedea & Abilities', 'Triptik', 'Busta Rhymes', '83', \"Diam's\", 'Hilltop Hoods', 'Young MC', 'K-OS', 'NTM', 'Gang Starr', 'Jaw', 'Jurassic 5', 'Donald D.', 'Hadag Nachash', 'Timbuktu', 'Massive Töne', 'Ice-T', 'Artifacts', 'Koriass', 'Faf Larage', 'Pit Baccardi', 'Kool Moe Dee', 'Ministère Amer', 'Layla', 'Fler', \"Rockin' Squat\", 'Krayzie Bone', 'Fonky Family', 'Amanda Blank', 'Kid Frost', 'Das EFX', 'Dr. Dooom/Kool Keith/KutMasta Kurt', 'Atk', 'Funkoars', 'Arma Blanca', 'Dream Warriors', 'Curse', 'Boogie Down Productions', 'Beastie Boys', \"Compton's Most Wanted\", 'SemiBruce', 'Alec Empire', 'Pegz', 'Too $hort featuring Devin The Dude & Cutty Cartel', 'Bug Mafia', 'Accrophone', 'The Alkaholiks', 'MF Grimm', 'The Demigodz', 'Les 2 Tom', 'Jeru The Damaja', 'LL Cool J', 'Dead Prez', 'X-Clan', 'Ironik', 'Mantronix Featuring Wondress', '2 In A Room', 'Les Sages Poetes De La Rue', 'Ice Cube Featuring Chuck D', 'La Cliqua', 'Public Enemy', 'KDD', '2Pac', 'Loco Locass', 'RJD2', '3rd Bass', 'King Tee', 'Blade', 'MC Solaar', 'Mellow Man Ace', 'EPMD / Das Efx', 'Def Jef', 'Oxmo Puccino And The Jazzbastards', 'The Notorious B.I.G.', 'Tragedy Khadafi', 'Eminem', 'White & Spirit', 'Kool Keith', 'Urban Species / Imogen Heap', 'Will Smith Featuring Dru Hill & Kool Mo Dee', 'Digable Planets', 'Atach Tatuq', 'MC Hammer', 'Rascalz feat. Barrington Levy & K-OS', 'Salt-N-Pepa', 'Dany Dan_ Smoker_ Al Peco_ S-Pi_ Six Coups MC_ Sultan_ Gued1_ Seven_ Abdel', 'Schoolly D', 'Wu-Tang Clan', 'Omnikrom', 'Sido Feat. Shizoe', '7L & Esoteric', 'Big L / Tupac Shakur', 'Eric B. & Rakim', 'Big Audio Dynamite', 'Busta Flex', 'Looptroop Rockers', 'Buck 65', 'Looptroop', 'RUN-DMC', 'Oxmo Puccino', 'Muzion', 'Lady Sovereign', 'Sir Mix-A-Lot', 'Dr. Dre', 'Onyx', 'Alliance Ethnik', 'Mr Lee', 'Company Flow', 'Taktika']\n"
          ]
        }
      ],
      "source": [
        "from google.colab import drive\n",
        "import sqlite3\n",
        "import pandas as pd\n",
        "\n",
        "drive.mount('/content/drive')\n",
        "db_path = \"/content/drive/MyDrive/Colab Notebooks/artist_term.db\"\n",
        "csv_path = \"/content/drive/MyDrive/Colab Notebooks/unique_artists.txt\"\n",
        "\n",
        "# Connect to the SQLite database\n",
        "conn = sqlite3.connect(db_path)\n",
        "\n",
        "# Create a cursor object\n",
        "cursor = conn.cursor()\n",
        "\n",
        "# Execute a query to fetch all records from the artist_mbtag table\n",
        "query = \"SELECT * FROM artist_mbtag\"\n",
        "cursor.execute(query)\n",
        "\n",
        "# Fetch all results into a DataFrame\n",
        "artist_mbtag = pd.DataFrame(cursor.fetchall(), columns=[column[0] for column in cursor.description])\n",
        "\n",
        "# Load a dataframe that connects artist IDs with artist names, and rename columns\n",
        "artist_meta = pd.read_csv(csv_path, sep='<SEP>', header=None, usecols=[0, 3])\n",
        "artist_meta.columns = ['artist_id', 'artist_name']\n",
        "# Merge artist tags with artist names, joining on the common field 'artist_id'\n",
        "artists = pd.merge(artist_mbtag, artist_meta, how='inner', on='artist_id')\n",
        "\n",
        "# Clean artists, removing the no longer needed column 'artist_id'\n",
        "artists = artists[['artist_name', 'mbtag']]\n",
        "\n",
        "def bands_for_tag(dataframe, tag):\n",
        "    \"\"\"From a dataframe and a genre tag, return a list of bands associated with that tag.\"\"\"\n",
        "    bands = dataframe[dataframe['mbtag'] == tag]['artist_name'].tolist()\n",
        "    return bands\n",
        "\n",
        "print(\"Bands for glam rock:\", bands_for_tag(artists, 'glam rock'))\n",
        "print(\"Bands for punk rock:\", bands_for_tag(artists, 'punk rock'))\n",
        "print(\"Bands for hip hop:\", bands_for_tag(artists, 'hip hop'))\n",
        "\n",
        "conn.close()"
      ]
    },
    {
      "cell_type": "markdown",
      "metadata": {
        "id": "Z04ple3_ttoJ"
      },
      "source": [
        "## The most represented artists and genres\n",
        "\n",
        "Now that we've explored some of our favorites, let's see which artists and which genre tags are most common in this dataset. Let's find, and then display, the number of occurrences of each artist name and each genre tag in the `artists` dataframe.\n",
        "\n",
        "- Define `top_tags` and `top_artists` using the `.value_counts()` method learned in the Ramen lab."
      ]
    },
    {
      "cell_type": "code",
      "execution_count": 34,
      "metadata": {
        "colab": {
          "base_uri": "https://localhost:8080/",
          "height": 0
        },
        "id": "nI4VCht2ttoJ",
        "outputId": "cca34ef8-fbff-4ada-f975-5c39ea87a204"
      },
      "outputs": [
        {
          "output_type": "stream",
          "name": "stdout",
          "text": [
            "Drive already mounted at /content/drive; to attempt to forcibly remount, call drive.mount(\"/content/drive\", force_remount=True).\n"
          ]
        },
        {
          "output_type": "stream",
          "name": "stderr",
          "text": [
            "<ipython-input-34-19db7b7f336f>:23: ParserWarning: Falling back to the 'python' engine because the 'c' engine does not support regex separators (separators > 1 char and different from '\\s+' are interpreted as regex); you can avoid this warning by specifying engine='python'.\n",
            "  artist_meta = pd.read_csv(csv_path, sep='<SEP>', header=None, usecols=[0, 3])\n"
          ]
        },
        {
          "output_type": "stream",
          "name": "stdout",
          "text": [
            "Top Genre Tags:\n",
            "classic pop and rock    1073\n",
            "american                1027\n",
            "uk                      1013\n",
            "british                  975\n",
            "rock and indie           920\n",
            "                        ... \n",
            "rottun                     1\n",
            "dubtronica                 1\n",
            "serbian                    1\n",
            "roger waters               1\n",
            "slam                       1\n",
            "Name: mbtag, Length: 2321, dtype: int64\n",
            "\n",
            "Top Artists:\n",
            "Moby                  22\n",
            "Indidginus            20\n",
            "Yodelice              20\n",
            "Musetta               20\n",
            "Prodigy               20\n",
            "                      ..\n",
            "Gayle San              1\n",
            "Alek Szahala           1\n",
            "I Haunt Wizards        1\n",
            "Orchestra Baobab       1\n",
            "Scouting for Girls     1\n",
            "Name: artist_name, Length: 8797, dtype: int64\n"
          ]
        }
      ],
      "source": [
        "from google.colab import drive\n",
        "import sqlite3\n",
        "import pandas as pd\n",
        "\n",
        "drive.mount('/content/drive')\n",
        "db_path = \"/content/drive/MyDrive/Colab Notebooks/artist_term.db\"\n",
        "csv_path = \"/content/drive/MyDrive/Colab Notebooks/unique_artists.txt\"\n",
        "\n",
        "# Connect to the SQLite database\n",
        "conn = sqlite3.connect(db_path)\n",
        "\n",
        "# Create a cursor object\n",
        "cursor = conn.cursor()\n",
        "\n",
        "# Execute a query to fetch all records from the artist_mbtag table\n",
        "query = \"SELECT * FROM artist_mbtag\"\n",
        "cursor.execute(query)\n",
        "\n",
        "# Fetch all results into a DataFrame\n",
        "artist_mbtag = pd.DataFrame(cursor.fetchall(), columns=[column[0] for column in cursor.description])\n",
        "\n",
        "# Load a dataframe that connects artist IDs with artist names, and rename columns\n",
        "artist_meta = pd.read_csv(csv_path, sep='<SEP>', header=None, usecols=[0, 3])\n",
        "artist_meta.columns = ['artist_id', 'artist_name']\n",
        "# Merge artist tags with artist names, joining on the common field 'artist_id'\n",
        "artists = pd.merge(artist_mbtag, artist_meta, how='inner', on='artist_id')\n",
        "\n",
        "# Clean artists, removing the no longer needed column 'artist_id'\n",
        "artists = artists[['artist_name', 'mbtag']]\n",
        "\n",
        "def bands_for_tag(dataframe, tag):\n",
        "    \"\"\"From a dataframe and a genre tag, return a list of bands associated with that tag.\"\"\"\n",
        "    bands = dataframe[dataframe['mbtag'] == tag]['artist_name'].tolist()\n",
        "    return bands\n",
        "\n",
        "# Find the most common tags and artists in the dataset\n",
        "top_tags = artists['mbtag'].value_counts()\n",
        "top_artists = artists['artist_name'].value_counts()\n",
        "\n",
        "# Print the results\n",
        "print(\"Top Genre Tags:\")\n",
        "print(top_tags)\n",
        "\n",
        "print(\"\\nTop Artists:\")\n",
        "print(top_artists)\n",
        "conn.close()"
      ]
    },
    {
      "cell_type": "markdown",
      "metadata": {
        "id": "ntnTnDKtttoJ"
      },
      "source": [
        "## The tags of genre-transcending artists\n",
        "\n",
        "Some artists hav more genre tags than others. In some cases, this is a reflection of popularity -- more popularity leads to more listeners adding their two cents about genre to a crowd-sourced database. In some cases, this is a reflection of an artist's ability to bridge or transcend genre boundaries.\n",
        "\n",
        "Either way, let's see what genre tags are most common for the artists with the longest list of genre associations (20 or more). Maybe that will tell us something about their music -- or about music in general, and the relative rigidity of some genres. Let's find the genre tags most associated with the 12 artists most heavily tagged in the corpus (those with 20 genre tags or more).\n",
        "\n",
        "- Import the `Counter` function from the package `collections` (these are case-sensitive)\n",
        "- Create an empty list `tags_of_popular_bands`.\n",
        "- Loop through the 12 bands at the beginning of `top_artists`. (Note the code used here, as you'll need it later -- why do you think it might be necessary?)\n",
        "- Find the tags associated with each band (there's a function for that!) and add them to `tags_for_popular_bands`.\n",
        "- Use the `Counter()` function to count the number of occurrences of each tag in `tags_for_popular_bands`. Print the results."
      ]
    },
    {
      "cell_type": "code",
      "execution_count": 29,
      "metadata": {
        "colab": {
          "base_uri": "https://localhost:8080/",
          "height": 0
        },
        "id": "yQvGVnDXttoK",
        "outputId": "e20b3cba-d692-4ead-c5a8-4b01f0cb2d5e"
      },
      "outputs": [
        {
          "output_type": "stream",
          "name": "stdout",
          "text": [
            "Drive already mounted at /content/drive; to attempt to forcibly remount, call drive.mount(\"/content/drive\", force_remount=True).\n"
          ]
        },
        {
          "output_type": "stream",
          "name": "stderr",
          "text": [
            "<ipython-input-29-384e04be234c>:27: ParserWarning: Falling back to the 'python' engine because the 'c' engine does not support regex separators (separators > 1 char and different from '\\s+' are interpreted as regex); you can avoid this warning by specifying engine='python'.\n",
            "  artist_meta = pd.read_csv(csv_path, sep='<SEP>', header=None, usecols=[0, 3])\n"
          ]
        },
        {
          "output_type": "stream",
          "name": "stdout",
          "text": [
            "\n",
            "Genre Tags Associated with the 12 Most Common Artists:\n",
            "rap: 2\n",
            "electronic: 3\n",
            "american: 2\n",
            "ambient: 1\n",
            "house: 1\n",
            "downtempo: 2\n",
            "techno: 2\n",
            "electronica: 4\n",
            "harlem: 1\n",
            "darien: 1\n",
            "dance and electronica: 2\n",
            "united states: 2\n",
            "producteur: 2\n",
            "producer: 3\n",
            "compositeur: 3\n",
            "composer: 3\n",
            "parolier: 3\n",
            "rock: 6\n",
            "lyricist: 3\n",
            "rave: 2\n",
            "pop: 4\n",
            "psychedelic trance: 1\n",
            "world fusion: 1\n",
            "didgeridoo: 1\n",
            "idm: 1\n",
            "organica: 1\n",
            "indidginus: 1\n",
            "electronic music: 1\n",
            "organic soundscapes: 1\n",
            "didg: 1\n",
            "music: 1\n",
            "chillout: 2\n",
            "downbeat: 1\n",
            "psybient: 1\n",
            "psytrance: 1\n",
            "progressive psytrance: 1\n",
            "dubstep: 1\n",
            "slide didgeridoo: 1\n",
            "slide didg: 1\n",
            "folk: 2\n",
            "france: 1\n",
            "french: 1\n",
            "français: 1\n",
            "guitarist: 1\n",
            "guitariste: 1\n",
            "bassiste: 1\n",
            "chanteur: 2\n",
            "francophone: 1\n",
            "singer: 2\n",
            "keyboardist: 1\n",
            "bassist: 1\n",
            "claviériste: 1\n",
            "arrangeur: 1\n",
            "tripop: 1\n",
            "nu-jazz: 1\n",
            "italian: 1\n",
            "nu jazz: 1\n",
            "audial crack: 1\n",
            "chill-out: 1\n",
            "easy listening: 1\n",
            "female vocalist: 1\n",
            "female voices: 1\n",
            "instrumental: 1\n",
            "female vocals: 1\n",
            "female: 1\n",
            "electro pop: 1\n",
            "relaxing: 1\n",
            "new-jazz: 1\n",
            "down-tempo: 1\n",
            "trip-hop: 1\n",
            "warm and mellow: 1\n",
            "british: 4\n",
            "big beat: 1\n",
            "hardcore: 2\n",
            "uk: 3\n",
            "electropunk: 1\n",
            "braintree: 1\n",
            "breakbeat hardcore: 1\n",
            "dance-punk: 1\n",
            "electro: 1\n",
            "dance: 1\n",
            "2005: 1\n",
            "britannique: 1\n",
            "english: 3\n",
            "alternative rock: 3\n",
            "industrial: 1\n",
            "mainstream: 1\n",
            "gangsta rap: 1\n",
            "hip hop artist: 1\n",
            "caddy: 1\n",
            "caddillac: 1\n",
            "bug: 1\n",
            "romanian hip hop: 1\n",
            "mafia: 1\n",
            "rap artist: 1\n",
            "bug mafia: 1\n",
            "romaneasca: 1\n",
            "muzica romaneasca: 1\n",
            "hip hop: 1\n",
            "romanian artist: 1\n",
            "artist: 1\n",
            "tataee: 1\n",
            "romanian band: 1\n",
            "uzzi: 1\n",
            "british invasion: 1\n",
            "60s: 1\n",
            "heavy metal: 1\n",
            "classical pop: 1\n",
            "instrumental pop: 1\n",
            "folk-rock: 1\n",
            "pop rock: 2\n",
            "orchestral: 1\n",
            "psychedelic: 1\n",
            "merseybeat: 1\n",
            "rock roll: 1\n",
            "adult alternative pop rock: 1\n",
            "tribute albums: 1\n",
            "british psychedelia: 1\n",
            "orchestral pop: 1\n",
            "singer songwriter: 1\n",
            "indie rock: 1\n",
            "alternative: 3\n",
            "england: 2\n",
            "90s: 2\n",
            "singer songwriters: 1\n",
            "soulful: 1\n",
            "70s: 2\n",
            "female vocalists: 2\n",
            "80s: 2\n",
            "rock and indie: 1\n",
            "art rock: 1\n",
            "kent: 1\n",
            "evanescence: 1\n",
            "united kingdom: 1\n",
            "skeletons: 1\n",
            "mamaroneck: 1\n",
            "peter denenberg: 1\n",
            "silversun pickups: 1\n",
            "band: 1\n",
            "new york: 1\n",
            "tori amos: 1\n",
            "indie: 1\n",
            "lovethief: 1\n",
            "splinter: 1\n",
            "placebo: 1\n",
            "london: 2\n",
            "juliana hatfield: 1\n",
            "kari bethke: 1\n",
            "albany: 1\n",
            "acme studios: 1\n",
            "danish: 1\n",
            "scandinavian rock: 1\n",
            "70er: 1\n",
            "danish lyrics: 1\n",
            "scandinavian: 1\n",
            "danish music: 1\n",
            "scandinavian artist: 1\n",
            "gasolin: 1\n",
            "danish artist: 1\n",
            "scandinavian band: 1\n",
            "rockgruppe: 1\n",
            "skandinavisk musik: 1\n",
            "roskilde festival: 1\n",
            "halvfjerdsermusik: 1\n",
            "danish rock: 1\n",
            "dansk: 1\n",
            "gammelt: 1\n",
            "halvfjerdser: 1\n",
            "scandinavian music: 1\n",
            "70erne: 1\n",
            "rnb: 1\n",
            "dance-pop: 1\n",
            "new jack swing: 1\n",
            "soul: 1\n",
            "disco: 1\n",
            "cool: 1\n",
            "classic pop and rock: 2\n",
            "michael-jackson: 1\n",
            "usa: 1\n",
            "contemporary rnb: 1\n",
            "new wave: 1\n",
            "gothic: 1\n",
            "punk: 1\n",
            "gothic rock: 1\n",
            "00s: 1\n",
            "post-punk: 1\n",
            "punk rock: 1\n"
          ]
        }
      ],
      "source": [
        "from google.colab import drive\n",
        "import sqlite3\n",
        "import pandas as pd\n",
        "from collections import Counter\n",
        "\n",
        "drive.mount('/content/drive')\n",
        "db_path = \"/content/drive/MyDrive/Colab Notebooks/artist_term.db\"\n",
        "csv_path = \"/content/drive/MyDrive/Colab Notebooks/unique_artists.txt\"\n",
        "\n",
        "conn = sqlite3.connect(db_path)\n",
        "\n",
        "# Create a cursor object\n",
        "cursor = conn.cursor()\n",
        "\n",
        "# Execute a query to fetch all records from the artist_mbtag table\n",
        "query = \"SELECT * FROM artist_mbtag\"\n",
        "cursor.execute(query)\n",
        "\n",
        "# Fetch all results into a DataFrame\n",
        "artist_mbtag = pd.DataFrame(cursor.fetchall(), columns=[column[0] for column in cursor.description])\n",
        "\n",
        "# Load a dataframe that connects artist IDs with artist names, and rename columns\n",
        "artist_meta = pd.read_csv(csv_path, sep='<SEP>', header=None, usecols=[0, 3])\n",
        "artist_meta.columns = ['artist_id', 'artist_name']\n",
        "\n",
        "# Merge artist tags with artist names, joining on the common field 'artist_id'\n",
        "artists = pd.merge(artist_mbtag, artist_meta, how='inner', on='artist_id')\n",
        "\n",
        "# Clean artists, removing the no longer needed column 'artist_id'\n",
        "artists = artists[['artist_name', 'mbtag']]\n",
        "\n",
        "# Find the most common tags and artists in the dataset\n",
        "top_tags = artists['mbtag'].value_counts()\n",
        "top_artists = artists['artist_name'].value_counts()\n",
        "\n",
        "# Create an empty list tags_of_popular_bands\n",
        "tags_of_popular_bands = []\n",
        "\n",
        "# Loop through the 12 most common artists\n",
        "for band in top_artists.index.values[:12]:\n",
        "    # Find the tags represented by those bands and add them to tags_of_popular_bands\n",
        "    tags = artists[artists['artist_name'] == band]['mbtag'].tolist()\n",
        "    tags_of_popular_bands.extend(tags)\n",
        "\n",
        "# Use Counter to count the occurrences of each tag\n",
        "tag_counts = Counter(tags_of_popular_bands)\n",
        "\n",
        "# Print the results\n",
        "print(\"\\nGenre Tags Associated with the 12 Most Common Artists:\")\n",
        "for tag, count in tag_counts.items():\n",
        "    print(f\"{tag}: {count}\")\n",
        "\n",
        "conn.close()"
      ]
    },
    {
      "cell_type": "markdown",
      "metadata": {
        "id": "k-HWpasFttoK"
      },
      "source": [
        "## Genre pairings\n",
        "\n",
        "That's not particularly instructive, so let's look at what genres are paired with each other throughout the entire dataset! To begin, here is every unique pair of genres associated with The Beatles.\n",
        "\n",
        "Define a function `get_tag_pairs()` that returns a list of all unique pairs of genres associated with a given band. Print the result for The Beatles.\n",
        "\n",
        "- This function takes two arguments: `dataframe` and `band`. Assuming a user provides the dataframe `artists`, define `tags` so that it returns a list of all the tags associated with the specified `band`. (This should sound familiar)\n",
        "- Complete the `if` statement so that it is only true when the two tags are different, and in alphabetical order. (This will ensure that we don't count `rock`-`rock` as a \"pair\", and that `rock`-`pop` and `pop`-`rock` are not considered *different* pairs.)\n",
        "- Inside the `if` statement, create a string that concatenates `tag` with `tag2`, with ` & ` in between, and add that string to the `tag_pairs` list.\n",
        "- Return `tag_pairs`.\n",
        "\n",
        "<hr />\n",
        "\n",
        "The looping syntax is provided because it's somewhat complex but please make sure you understand it before you go on to the next task."
      ]
    },
    {
      "cell_type": "code",
      "execution_count": 30,
      "metadata": {
        "colab": {
          "base_uri": "https://localhost:8080/",
          "height": 0
        },
        "id": "Fxq6HM-RttoK",
        "outputId": "a574976e-6a3b-45e1-d70c-9b6553d4c93b"
      },
      "outputs": [
        {
          "output_type": "stream",
          "name": "stdout",
          "text": [
            "Drive already mounted at /content/drive; to attempt to forcibly remount, call drive.mount(\"/content/drive\", force_remount=True).\n"
          ]
        },
        {
          "output_type": "stream",
          "name": "stderr",
          "text": [
            "<ipython-input-30-1969b27f2f9b>:27: ParserWarning: Falling back to the 'python' engine because the 'c' engine does not support regex separators (separators > 1 char and different from '\\s+' are interpreted as regex); you can avoid this warning by specifying engine='python'.\n",
            "  artist_meta = pd.read_csv(csv_path, sep='<SEP>', header=None, usecols=[0, 3])\n"
          ]
        },
        {
          "output_type": "stream",
          "name": "stdout",
          "text": [
            "['british & rock', 'british & pop', 'british & british invasion', 'british & heavy metal', 'british & classical pop', 'british & instrumental pop', 'british & folk-rock', 'british & pop rock', 'british & orchestral', 'british & psychedelic', 'british & merseybeat', 'british & rock roll', 'british & tribute albums', 'british & british psychedelia', 'british & orchestral pop', 'british & singer songwriter', 'british & indie rock', 'rock & rock roll', 'rock & tribute albums', 'rock & singer songwriter', 'pop & rock', 'pop & pop rock', 'pop & psychedelic', 'pop & rock roll', 'pop & tribute albums', 'pop & singer songwriter', 'british invasion & rock', 'british invasion & pop', 'british invasion & heavy metal', 'british invasion & classical pop', 'british invasion & instrumental pop', 'british invasion & folk-rock', 'british invasion & pop rock', 'british invasion & orchestral', 'british invasion & psychedelic', 'british invasion & merseybeat', 'british invasion & rock roll', 'british invasion & tribute albums', 'british invasion & british psychedelia', 'british invasion & orchestral pop', 'british invasion & singer songwriter', 'british invasion & indie rock', '60s & british', '60s & rock', '60s & pop', '60s & british invasion', '60s & heavy metal', '60s & classical pop', '60s & instrumental pop', '60s & folk-rock', '60s & pop rock', '60s & orchestral', '60s & psychedelic', '60s & merseybeat', '60s & rock roll', '60s & adult alternative pop rock', '60s & tribute albums', '60s & british psychedelia', '60s & orchestral pop', '60s & singer songwriter', '60s & indie rock', 'heavy metal & rock', 'heavy metal & pop', 'heavy metal & instrumental pop', 'heavy metal & pop rock', 'heavy metal & orchestral', 'heavy metal & psychedelic', 'heavy metal & merseybeat', 'heavy metal & rock roll', 'heavy metal & tribute albums', 'heavy metal & orchestral pop', 'heavy metal & singer songwriter', 'heavy metal & indie rock', 'classical pop & rock', 'classical pop & pop', 'classical pop & heavy metal', 'classical pop & instrumental pop', 'classical pop & folk-rock', 'classical pop & pop rock', 'classical pop & orchestral', 'classical pop & psychedelic', 'classical pop & merseybeat', 'classical pop & rock roll', 'classical pop & tribute albums', 'classical pop & orchestral pop', 'classical pop & singer songwriter', 'classical pop & indie rock', 'instrumental pop & rock', 'instrumental pop & pop', 'instrumental pop & pop rock', 'instrumental pop & orchestral', 'instrumental pop & psychedelic', 'instrumental pop & merseybeat', 'instrumental pop & rock roll', 'instrumental pop & tribute albums', 'instrumental pop & orchestral pop', 'instrumental pop & singer songwriter', 'folk-rock & rock', 'folk-rock & pop', 'folk-rock & heavy metal', 'folk-rock & instrumental pop', 'folk-rock & pop rock', 'folk-rock & orchestral', 'folk-rock & psychedelic', 'folk-rock & merseybeat', 'folk-rock & rock roll', 'folk-rock & tribute albums', 'folk-rock & orchestral pop', 'folk-rock & singer songwriter', 'folk-rock & indie rock', 'pop rock & rock', 'pop rock & psychedelic', 'pop rock & rock roll', 'pop rock & tribute albums', 'pop rock & singer songwriter', 'orchestral & rock', 'orchestral & pop', 'orchestral & pop rock', 'orchestral & psychedelic', 'orchestral & rock roll', 'orchestral & tribute albums', 'orchestral & orchestral pop', 'orchestral & singer songwriter', 'psychedelic & rock', 'psychedelic & rock roll', 'psychedelic & tribute albums', 'psychedelic & singer songwriter', 'merseybeat & rock', 'merseybeat & pop', 'merseybeat & pop rock', 'merseybeat & orchestral', 'merseybeat & psychedelic', 'merseybeat & rock roll', 'merseybeat & tribute albums', 'merseybeat & orchestral pop', 'merseybeat & singer songwriter', 'rock roll & tribute albums', 'rock roll & singer songwriter', 'adult alternative pop rock & british', 'adult alternative pop rock & rock', 'adult alternative pop rock & pop', 'adult alternative pop rock & british invasion', 'adult alternative pop rock & heavy metal', 'adult alternative pop rock & classical pop', 'adult alternative pop rock & instrumental pop', 'adult alternative pop rock & folk-rock', 'adult alternative pop rock & pop rock', 'adult alternative pop rock & orchestral', 'adult alternative pop rock & psychedelic', 'adult alternative pop rock & merseybeat', 'adult alternative pop rock & rock roll', 'adult alternative pop rock & tribute albums', 'adult alternative pop rock & british psychedelia', 'adult alternative pop rock & orchestral pop', 'adult alternative pop rock & singer songwriter', 'adult alternative pop rock & indie rock', 'british psychedelia & rock', 'british psychedelia & pop', 'british psychedelia & heavy metal', 'british psychedelia & classical pop', 'british psychedelia & instrumental pop', 'british psychedelia & folk-rock', 'british psychedelia & pop rock', 'british psychedelia & orchestral', 'british psychedelia & psychedelic', 'british psychedelia & merseybeat', 'british psychedelia & rock roll', 'british psychedelia & tribute albums', 'british psychedelia & orchestral pop', 'british psychedelia & singer songwriter', 'british psychedelia & indie rock', 'orchestral pop & rock', 'orchestral pop & pop', 'orchestral pop & pop rock', 'orchestral pop & psychedelic', 'orchestral pop & rock roll', 'orchestral pop & tribute albums', 'orchestral pop & singer songwriter', 'singer songwriter & tribute albums', 'indie rock & rock', 'indie rock & pop', 'indie rock & instrumental pop', 'indie rock & pop rock', 'indie rock & orchestral', 'indie rock & psychedelic', 'indie rock & merseybeat', 'indie rock & rock roll', 'indie rock & tribute albums', 'indie rock & orchestral pop', 'indie rock & singer songwriter']\n"
          ]
        }
      ],
      "source": [
        "from google.colab import drive\n",
        "import sqlite3\n",
        "import pandas as pd\n",
        "from collections import Counter\n",
        "\n",
        "drive.mount('/content/drive')\n",
        "db_path = \"/content/drive/MyDrive/Colab Notebooks/artist_term.db\"\n",
        "csv_path = \"/content/drive/MyDrive/Colab Notebooks/unique_artists.txt\"\n",
        "\n",
        "# Connect to the SQLite database\n",
        "conn = sqlite3.connect(db_path)\n",
        "\n",
        "# Create a cursor object\n",
        "cursor = conn.cursor()\n",
        "\n",
        "# Execute a query to fetch all records from the artist_mbtag table\n",
        "query = \"SELECT * FROM artist_mbtag\"\n",
        "cursor.execute(query)\n",
        "\n",
        "# Fetch all results into a DataFrame\n",
        "artist_mbtag = pd.DataFrame(cursor.fetchall(), columns=[column[0] for column in cursor.description])\n",
        "\n",
        "# Load a dataframe that connects artist IDs with artist names, and rename columns\n",
        "artist_meta = pd.read_csv(csv_path, sep='<SEP>', header=None, usecols=[0, 3])\n",
        "artist_meta.columns = ['artist_id', 'artist_name']\n",
        "\n",
        "# Merge artist tags with artist names, joining on the common field 'artist_id'\n",
        "artists = pd.merge(artist_mbtag, artist_meta, how='inner', on='artist_id')\n",
        "\n",
        "# Clean artists, removing the no longer needed column 'artist_id'\n",
        "artists = artists[['artist_name', 'mbtag']]\n",
        "\n",
        "# Find the most common tags and artists in the dataset\n",
        "top_tags = artists['mbtag'].value_counts()\n",
        "top_artists = artists['artist_name'].value_counts()\n",
        "\n",
        "# Create an empty list tags_of_popular_bands\n",
        "tags_of_popular_bands = []\n",
        "\n",
        "# Loop through the 12 most common artists\n",
        "for band in top_artists.index.values[:12]:\n",
        "    # Find the tags represented by those bands and add them to tags_of_popular_bands\n",
        "    tags = artists[artists['artist_name'] == band]['mbtag'].tolist()\n",
        "    tags_of_popular_bands.extend(tags)\n",
        "\n",
        "# Use Counter to count the occurrences of each tag\n",
        "tag_counts = Counter(tags_of_popular_bands)\n",
        "\n",
        "def get_tag_pairs(dataframe, band):\n",
        "    \"\"\"Return list of pairs of tags associated with the same band.\"\"\"\n",
        "\n",
        "    tags = dataframe[dataframe['artist_name'] == band]['mbtag'].tolist()\n",
        "    tag_pairs = []\n",
        "\n",
        "    for tag in tags:\n",
        "        for tag2 in tags:\n",
        "            if tag != tag2 and tag < tag2:\n",
        "                pair = f\"{tag} & {tag2}\"\n",
        "                tag_pairs.append(pair)\n",
        "\n",
        "    return tag_pairs\n",
        "\n",
        "print(get_tag_pairs(artists, 'The Beatles'))\n",
        "\n",
        "conn.close()"
      ]
    },
    {
      "cell_type": "markdown",
      "metadata": {
        "id": "GPUeZ04attoL"
      },
      "source": [
        "## Genre pairings - the whole kit and caboodle\n",
        "\n",
        "That's a lot of genre pairings just for one band! Ironically, it's simpler to look at the genre pairings for the whole dataset, and get a handle on which ones tend to go together most frequently. Again, this is a result of both the relationship between the two genres *and* the relative popularity of both genre tags.\n",
        "\n",
        "With that context in mind, let's take a look!  Let's use the new `get_tag_pairs()` function on all artists in the dataset, and display the most common genre tag pairings in descending order.\n",
        "\n",
        "- Use `set()` and `list()` together to reduce `artists['artist_name']` to a list of unique artist names, each occurring only once.\n",
        "- Define an empty list `all_tag_pairs`.\n",
        "- While looping through the unique band names in `artist_names`, use `get_tag_pairs()` to retrieve all genre tag pairings for each band and add them to `all_tag_pairs`.\n",
        "- Use `Counter()` to count the number of occurrences of each genre pairing in `all_tag_pairs`, and assign it to a Pandas series `tag_pair_count`.\n",
        "- Display `tag_pair_count`. Apply the method `.sort_values()` with the argument `ascending=False` to display them in descending order from the most to the least common.\n",
        "\n",
        "<hr />\n",
        "\n",
        "There are a couple of new things here. First, we're taking the dictionary that `Counter()` produces and assigning it to a `pandas` series. This will allow us both to display it in a more user-friendly way, and to more easily sort it so our output is more meaningful to read.\n",
        "\n",
        "Also, the `.sort_values()` function allows us to take that `pandas` series and sort it with a single, easy-to-use method. This is another one worth adding to your notes, even though we haven't met it in detail before."
      ]
    },
    {
      "cell_type": "code",
      "execution_count": 32,
      "metadata": {
        "colab": {
          "base_uri": "https://localhost:8080/",
          "height": 0
        },
        "id": "EtIVBITzttoL",
        "outputId": "cae6f73d-d616-45b6-9703-7987731ab8da"
      },
      "outputs": [
        {
          "output_type": "stream",
          "name": "stdout",
          "text": [
            "Drive already mounted at /content/drive; to attempt to forcibly remount, call drive.mount(\"/content/drive\", force_remount=True).\n"
          ]
        },
        {
          "output_type": "stream",
          "name": "stderr",
          "text": [
            "<ipython-input-32-1bc135a88caf>:27: ParserWarning: Falling back to the 'python' engine because the 'c' engine does not support regex separators (separators > 1 char and different from '\\s+' are interpreted as regex); you can avoid this warning by specifying engine='python'.\n",
            "  artist_meta = pd.read_csv(csv_path, sep='<SEP>', header=None, usecols=[0, 3])\n"
          ]
        },
        {
          "output_type": "stream",
          "name": "stdout",
          "text": [
            "british & uk                  752\n",
            "british & english             608\n",
            "english & uk                  593\n",
            "american & rock               312\n",
            "classic pop and rock & uk     245\n",
            "                             ... \n",
            "accordion & male vocalists      1\n",
            "accordion & mexico              1\n",
            "accordion & cumbia              1\n",
            "accordion & vallenato           1\n",
            "80s & ska                       1\n",
            "Length: 19829, dtype: int64\n"
          ]
        }
      ],
      "source": [
        "from google.colab import drive\n",
        "import sqlite3\n",
        "import pandas as pd\n",
        "from collections import Counter\n",
        "\n",
        "drive.mount('/content/drive')\n",
        "db_path = \"/content/drive/MyDrive/Colab Notebooks/artist_term.db\"\n",
        "csv_path = \"/content/drive/MyDrive/Colab Notebooks/unique_artists.txt\"\n",
        "\n",
        "# Connect to the SQLite database\n",
        "conn = sqlite3.connect(db_path)\n",
        "\n",
        "# Create a cursor object\n",
        "cursor = conn.cursor()\n",
        "\n",
        "# Execute a query to fetch all records from the artist_mbtag table\n",
        "query = \"SELECT * FROM artist_mbtag\"\n",
        "cursor.execute(query)\n",
        "\n",
        "# Fetch all results into a DataFrame\n",
        "artist_mbtag = pd.DataFrame(cursor.fetchall(), columns=[column[0] for column in cursor.description])\n",
        "\n",
        "# Load a dataframe that connects artist IDs with artist names, and rename columns\n",
        "artist_meta = pd.read_csv(csv_path, sep='<SEP>', header=None, usecols=[0, 3])\n",
        "artist_meta.columns = ['artist_id', 'artist_name']\n",
        "\n",
        "# Merge artist tags with artist names, joining on the common field 'artist_id'\n",
        "artists = pd.merge(artist_mbtag, artist_meta, how='inner', on='artist_id')\n",
        "\n",
        "# Clean artists, removing the no longer needed column 'artist_id'\n",
        "artists = artists[['artist_name', 'mbtag']]\n",
        "\n",
        "# Find the most common tags and artists in the dataset\n",
        "top_tags = artists['mbtag'].value_counts()\n",
        "top_artists = artists['artist_name'].value_counts()\n",
        "\n",
        "# Create an empty list tags_of_popular_bands\n",
        "tags_of_popular_bands = []\n",
        "\n",
        "# Loop through the 12 most common artists\n",
        "for band in top_artists.index.values[:12]:\n",
        "    # Find the tags represented by those bands and add them to tags_of_popular_bands\n",
        "    tags = artists[artists['artist_name'] == band]['mbtag'].tolist()\n",
        "    tags_of_popular_bands.extend(tags)\n",
        "\n",
        "# Use Counter to count the occurrences of each tag\n",
        "tag_counts = Counter(tags_of_popular_bands)\n",
        "\n",
        "def get_tag_pairs(dataframe, band):\n",
        "    \"\"\"Return list of pairs of tags associated with the same band.\"\"\"\n",
        "\n",
        "    tags = dataframe[dataframe['artist_name'] == band]['mbtag'].tolist()\n",
        "    tag_pairs = []\n",
        "\n",
        "    for tag in tags:\n",
        "        for tag2 in tags:\n",
        "            if tag != tag2 and tag < tag2:\n",
        "                pair = f\"{tag} & {tag2}\"\n",
        "                tag_pairs.append(pair)\n",
        "\n",
        "    return tag_pairs\n",
        "\n",
        "# Get a list of unique artist names\n",
        "artist_names = list(set(artists['artist_name']))\n",
        "\n",
        "# Define an empty list `all_tag_pairs`\n",
        "all_tag_pairs = []\n",
        "\n",
        "# Loop through the bands in artist_names\n",
        "for band in artist_names:\n",
        "    # Get all tag pairs for each artist and adding them to all_tag_pairs\n",
        "    tag_pairs = get_tag_pairs(artists, band)\n",
        "    all_tag_pairs.extend(tag_pairs)\n",
        "\n",
        "# Count the occurrences of each genre tag pair in all_tag_pairs, and assign the results to a pandas series\n",
        "tag_pair_count = pd.Series(Counter(all_tag_pairs))\n",
        "\n",
        "# Sort and display the results in descending order\n",
        "tag_pair_count = tag_pair_count.sort_values(ascending=False)\n",
        "\n",
        "# Print the top genre tag pairings\n",
        "print(tag_pair_count)\n",
        "\n",
        "conn.close()"
      ]
    },
    {
      "cell_type": "markdown",
      "metadata": {
        "id": "1jU_km2yttoM"
      },
      "source": [
        "## Conclusion\n",
        "\n",
        "Looks like American and British/English music tops the charts in this dataset and is strongly associated with rock, pop, punk, and indie music. It would be interesting to tease out all of the UK- and US-specific terms and make a more direct comparison -- are some genres more \"English-like\" (punk or classic rock, perhaps?) and others more \"American-like\" (alternative or jazz, maybe?). We'll save that for a future project!"
      ]
    }
  ],
  "metadata": {
    "language_info": {
      "name": "python"
    },
    "colab": {
      "provenance": []
    },
    "kernelspec": {
      "name": "python3",
      "display_name": "Python 3"
    }
  },
  "nbformat": 4,
  "nbformat_minor": 0
}