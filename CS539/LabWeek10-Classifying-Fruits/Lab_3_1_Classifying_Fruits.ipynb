{
  "nbformat": 4,
  "nbformat_minor": 0,
  "metadata": {
    "colab": {
      "provenance": []
    },
    "kernelspec": {
      "name": "python3",
      "display_name": "Python 3"
    },
    "language_info": {
      "name": "python"
    }
  },
  "cells": [
    {
      "cell_type": "markdown",
      "source": [
        "#Giorgio Mendoza\n",
        "#CS539-F23-F02\n",
        "#Dr. J. Sethi"
      ],
      "metadata": {
        "id": "625pj-31Rile"
      }
    },
    {
      "cell_type": "markdown",
      "source": [
        "#Lab_3-1: Classifying Fruits\n",
        "#Please answer the questions by filling in the code where indicated below"
      ],
      "metadata": {
        "id": "YQnEtAShRWaE"
      }
    },
    {
      "cell_type": "code",
      "execution_count": 3,
      "metadata": {
        "colab": {
          "base_uri": "https://localhost:8080/",
          "height": 0
        },
        "id": "goqm3HQQO6ST",
        "outputId": "cc25a21a-2096-43fb-a849-1857dec1dc81"
      },
      "outputs": [
        {
          "output_type": "stream",
          "name": "stdout",
          "text": [
            ".. _breast_cancer_dataset:\n",
            "\n",
            "Breast cancer wisconsin (diagnostic) dataset\n",
            "--------------------------------------------\n",
            "\n",
            "**Data Set Characteristics:**\n",
            "\n",
            "    :Number of Instances: 569\n",
            "\n",
            "    :Number of Attributes: 30 numeric, predictive attributes and the class\n",
            "\n",
            "    :Attribute Information:\n",
            "        - radius (mean of distances from center to points on the perimeter)\n",
            "        - texture (standard deviation of gray-scale values)\n",
            "        - perimeter\n",
            "        - area\n",
            "        - smoothness (local variation in radius lengths)\n",
            "        - compactness (perimeter^2 / area - 1.0)\n",
            "        - concavity (severity of concave portions of the contour)\n",
            "        - concave points (number of concave portions of the contour)\n",
            "        - symmetry\n",
            "        - fractal dimension (\"coastline approximation\" - 1)\n",
            "\n",
            "        The mean, standard error, and \"worst\" or largest (mean of the three\n",
            "        worst/largest values) of these features were computed for each image,\n",
            "        resulting in 30 features.  For instance, field 0 is Mean Radius, field\n",
            "        10 is Radius SE, field 20 is Worst Radius.\n",
            "\n",
            "        - class:\n",
            "                - WDBC-Malignant\n",
            "                - WDBC-Benign\n",
            "\n",
            "    :Summary Statistics:\n",
            "\n",
            "    ===================================== ====== ======\n",
            "                                           Min    Max\n",
            "    ===================================== ====== ======\n",
            "    radius (mean):                        6.981  28.11\n",
            "    texture (mean):                       9.71   39.28\n",
            "    perimeter (mean):                     43.79  188.5\n",
            "    area (mean):                          143.5  2501.0\n",
            "    smoothness (mean):                    0.053  0.163\n",
            "    compactness (mean):                   0.019  0.345\n",
            "    concavity (mean):                     0.0    0.427\n",
            "    concave points (mean):                0.0    0.201\n",
            "    symmetry (mean):                      0.106  0.304\n",
            "    fractal dimension (mean):             0.05   0.097\n",
            "    radius (standard error):              0.112  2.873\n",
            "    texture (standard error):             0.36   4.885\n",
            "    perimeter (standard error):           0.757  21.98\n",
            "    area (standard error):                6.802  542.2\n",
            "    smoothness (standard error):          0.002  0.031\n",
            "    compactness (standard error):         0.002  0.135\n",
            "    concavity (standard error):           0.0    0.396\n",
            "    concave points (standard error):      0.0    0.053\n",
            "    symmetry (standard error):            0.008  0.079\n",
            "    fractal dimension (standard error):   0.001  0.03\n",
            "    radius (worst):                       7.93   36.04\n",
            "    texture (worst):                      12.02  49.54\n",
            "    perimeter (worst):                    50.41  251.2\n",
            "    area (worst):                         185.2  4254.0\n",
            "    smoothness (worst):                   0.071  0.223\n",
            "    compactness (worst):                  0.027  1.058\n",
            "    concavity (worst):                    0.0    1.252\n",
            "    concave points (worst):               0.0    0.291\n",
            "    symmetry (worst):                     0.156  0.664\n",
            "    fractal dimension (worst):            0.055  0.208\n",
            "    ===================================== ====== ======\n",
            "\n",
            "    :Missing Attribute Values: None\n",
            "\n",
            "    :Class Distribution: 212 - Malignant, 357 - Benign\n",
            "\n",
            "    :Creator:  Dr. William H. Wolberg, W. Nick Street, Olvi L. Mangasarian\n",
            "\n",
            "    :Donor: Nick Street\n",
            "\n",
            "    :Date: November, 1995\n",
            "\n",
            "This is a copy of UCI ML Breast Cancer Wisconsin (Diagnostic) datasets.\n",
            "https://goo.gl/U2Uwz2\n",
            "\n",
            "Features are computed from a digitized image of a fine needle\n",
            "aspirate (FNA) of a breast mass.  They describe\n",
            "characteristics of the cell nuclei present in the image.\n",
            "\n",
            "Separating plane described above was obtained using\n",
            "Multisurface Method-Tree (MSM-T) [K. P. Bennett, \"Decision Tree\n",
            "Construction Via Linear Programming.\" Proceedings of the 4th\n",
            "Midwest Artificial Intelligence and Cognitive Science Society,\n",
            "pp. 97-101, 1992], a classification method which uses linear\n",
            "programming to construct a decision tree.  Relevant features\n",
            "were selected using an exhaustive search in the space of 1-4\n",
            "features and 1-3 separating planes.\n",
            "\n",
            "The actual linear program used to obtain the separating plane\n",
            "in the 3-dimensional space is that described in:\n",
            "[K. P. Bennett and O. L. Mangasarian: \"Robust Linear\n",
            "Programming Discrimination of Two Linearly Inseparable Sets\",\n",
            "Optimization Methods and Software 1, 1992, 23-34].\n",
            "\n",
            "This database is also available through the UW CS ftp server:\n",
            "\n",
            "ftp ftp.cs.wisc.edu\n",
            "cd math-prog/cpo-dataset/machine-learn/WDBC/\n",
            "\n",
            ".. topic:: References\n",
            "\n",
            "   - W.N. Street, W.H. Wolberg and O.L. Mangasarian. Nuclear feature extraction \n",
            "     for breast tumor diagnosis. IS&T/SPIE 1993 International Symposium on \n",
            "     Electronic Imaging: Science and Technology, volume 1905, pages 861-870,\n",
            "     San Jose, CA, 1993.\n",
            "   - O.L. Mangasarian, W.N. Street and W.H. Wolberg. Breast cancer diagnosis and \n",
            "     prognosis via linear programming. Operations Research, 43(4), pages 570-577, \n",
            "     July-August 1995.\n",
            "   - W.H. Wolberg, W.N. Street, and O.L. Mangasarian. Machine learning techniques\n",
            "     to diagnose breast cancer from fine-needle aspirates. Cancer Letters 77 (1994) \n",
            "     163-171.\n"
          ]
        }
      ],
      "source": [
        "import numpy as np\n",
        "import pandas as pd\n",
        "from sklearn.datasets import load_breast_cancer\n",
        "%matplotlib inline\n",
        "\n",
        "cancer = load_breast_cancer()\n",
        "\n",
        "print(cancer.DESCR) # Print the data set description"
      ]
    },
    {
      "cell_type": "markdown",
      "source": [
        "## Question 0 (Example)\n",
        "\n",
        "How many features does the breast cancer dataset have?\n",
        "\n",
        "*This function should return an integer.*"
      ],
      "metadata": {
        "id": "Q57F7NThR5Qq"
      }
    },
    {
      "cell_type": "code",
      "source": [
        "# You should write your whole answer within the function provided, with special emphasis on the return value\n",
        "def answer_zero():\n",
        "    # This function returns the number of features of the breast cancer dataset, which is an integer\n",
        "    return len(cancer['feature_names'])\n",
        "\n",
        "# You can examine what your function returns by calling it in the cell\n",
        "answer_zero()"
      ],
      "metadata": {
        "colab": {
          "base_uri": "https://localhost:8080/",
          "height": 0
        },
        "id": "yzDv3BwHPCW6",
        "outputId": "b1904d21-ff76-4115-eb2e-665081a46874"
      },
      "execution_count": 4,
      "outputs": [
        {
          "output_type": "execute_result",
          "data": {
            "text/plain": [
              "30"
            ]
          },
          "metadata": {},
          "execution_count": 4
        }
      ]
    },
    {
      "cell_type": "markdown",
      "source": [
        "## Question 1\n",
        "\n",
        "Scikit-learn works with lists, numpy arrays, scipy-sparse matrices, and pandas DataFrames, so converting the dataset to a DataFrame is not necessary for training this model. Using a DataFrame does however help make many things like munging data easier, so let's practice creating a classifier with a pandas DataFrame.\n",
        "\n",
        "\n",
        "Convert the sklearn.dataset `cancer` to a DataFrame.\n",
        "\n",
        "*This function should return a* `(569, 31)`  *DataFrame with columns =*\n",
        "`    ['mean radius', 'mean texture', 'mean perimeter', 'mean area',\n",
        "    'mean smoothness', 'mean compactness', 'mean concavity',\n",
        "    'mean concave points', 'mean symmetry', 'mean fractal dimension',\n",
        "    'radius error', 'texture error', 'perimeter error', 'area error',\n",
        "    'smoothness error', 'compactness error', 'concavity error',\n",
        "    'concave points error', 'symmetry error', 'fractal dimension error',\n",
        "    'worst radius', 'worst texture', 'worst perimeter', 'worst area',\n",
        "    'worst smoothness', 'worst compactness', 'worst concavity',\n",
        "    'worst concave points', 'worst symmetry', 'worst fractal dimension',\n",
        "    'target']\n",
        "`\n",
        "*and index =* `RangeIndex(start=0, stop=569, step=1)`"
      ],
      "metadata": {
        "id": "qFd9ofwfSA43"
      }
    },
    {
      "cell_type": "code",
      "source": [
        "def answer_one():\n",
        "    from sklearn.datasets import load_breast_cancer\n",
        "    import pandas as pd\n",
        "\n",
        "    #load dataset\n",
        "    cancer = load_breast_cancer()\n",
        "\n",
        "    #create a DataFrame from data\n",
        "    cancer_df = pd.DataFrame(cancer.data, columns=cancer.feature_names)\n",
        "\n",
        "    #add target column to DataFrame\n",
        "    cancer_df['target'] = cancer.target\n",
        "\n",
        "    return cancer_df\n",
        "\n",
        "df = answer_one()\n",
        "print(df.shape)\n",
        "print(df.columns)\n",
        "print(df.index)"
      ],
      "metadata": {
        "colab": {
          "base_uri": "https://localhost:8080/",
          "height": 0
        },
        "id": "BNPnaixuPGxL",
        "outputId": "9cc91b73-962b-4a63-831f-e2cd8a95db7e"
      },
      "execution_count": 5,
      "outputs": [
        {
          "output_type": "stream",
          "name": "stdout",
          "text": [
            "(569, 31)\n",
            "Index(['mean radius', 'mean texture', 'mean perimeter', 'mean area',\n",
            "       'mean smoothness', 'mean compactness', 'mean concavity',\n",
            "       'mean concave points', 'mean symmetry', 'mean fractal dimension',\n",
            "       'radius error', 'texture error', 'perimeter error', 'area error',\n",
            "       'smoothness error', 'compactness error', 'concavity error',\n",
            "       'concave points error', 'symmetry error', 'fractal dimension error',\n",
            "       'worst radius', 'worst texture', 'worst perimeter', 'worst area',\n",
            "       'worst smoothness', 'worst compactness', 'worst concavity',\n",
            "       'worst concave points', 'worst symmetry', 'worst fractal dimension',\n",
            "       'target'],\n",
            "      dtype='object')\n",
            "RangeIndex(start=0, stop=569, step=1)\n"
          ]
        }
      ]
    },
    {
      "cell_type": "markdown",
      "source": [
        "## Question 2\n",
        "What is the class distribution? (i.e. how many instances of `malignant` (encoded 0) and how many `benign` (encoded 1)?)\n",
        "\n",
        "*This function should return a Series named `target` of length 2 with integer values and index =* `['malignant', 'benign']`"
      ],
      "metadata": {
        "id": "getIW2gjSFdr"
      }
    },
    {
      "cell_type": "code",
      "source": [
        "#return class distribution of breast cancer dataset\n",
        "def answer_two():\n",
        "    cancerdf = answer_one()\n",
        "\n",
        "    #counting instances of malignant (0) and benign (1)\n",
        "    counts = cancerdf['target'].value_counts()\n",
        "    counts.index = ['malignant', 'benign']\n",
        "\n",
        "    return counts\n",
        "\n",
        "answer_two()"
      ],
      "metadata": {
        "colab": {
          "base_uri": "https://localhost:8080/",
          "height": 0
        },
        "id": "G3UuJf7hPJZf",
        "outputId": "220fc6d2-bd62-43fb-bed5-b14fd6d1fddd"
      },
      "execution_count": 6,
      "outputs": [
        {
          "output_type": "execute_result",
          "data": {
            "text/plain": [
              "malignant    357\n",
              "benign       212\n",
              "Name: target, dtype: int64"
            ]
          },
          "metadata": {},
          "execution_count": 6
        }
      ]
    },
    {
      "cell_type": "markdown",
      "source": [
        "Question 3\n",
        "Split the DataFrame into X (the data) and y (the labels).\n",
        "\n",
        "This function should return a tuple of length 2: (X, y), where X, a pandas DataFrame, has shape (569, 30)\n",
        "\n",
        "y, a pandas Series, has shape (569,)"
      ],
      "metadata": {
        "id": "PuXHWq1fSJ75"
      }
    },
    {
      "cell_type": "code",
      "source": [
        "#split DataFrame into X (data) and y (labels)\n",
        "def answer_three():\n",
        "    cancerdf = answer_one()\n",
        "\n",
        "    #splitting DataFrame into X and y\n",
        "    X = cancerdf.drop('target', axis=1)\n",
        "    y = cancerdf['target']\n",
        "\n",
        "    return (X, y)\n",
        "\n",
        "#check shape of X and y\n",
        "X, y = answer_three()\n",
        "(X.shape, y.shape)\n"
      ],
      "metadata": {
        "colab": {
          "base_uri": "https://localhost:8080/",
          "height": 0
        },
        "id": "1eILxgXBPKYc",
        "outputId": "99857f4c-55d2-44c1-fc33-58790109ee46"
      },
      "execution_count": 7,
      "outputs": [
        {
          "output_type": "execute_result",
          "data": {
            "text/plain": [
              "((569, 30), (569,))"
            ]
          },
          "metadata": {},
          "execution_count": 7
        }
      ]
    },
    {
      "cell_type": "markdown",
      "source": [
        "## Question 4\n",
        "Using `train_test_split`, split `X` and `y` into training and test sets `(X_train, X_test, y_train, and y_test)`.\n",
        "\n",
        "**Set the random number generator state to 0 using `random_state=0` to make sure your results match the solution!**\n",
        "\n",
        "*This function should return a tuple of length 4:* `(X_train, X_test, y_train, y_test)`\n",
        "*where* `X_train` *has shape* `(426, 30)`\n",
        "`X_test` *has shape* `(143, 30)`\n",
        "\n",
        "`y_train` *has shape* `(426,)`\n",
        "\n",
        "`y_test` *has shape* `(143,)`"
      ],
      "metadata": {
        "id": "wu6Al082SUD1"
      }
    },
    {
      "cell_type": "code",
      "source": [
        "from sklearn.model_selection import train_test_split\n",
        "\n",
        "#split X and y into training and test sets\n",
        "def answer_four():\n",
        "    X, y = answer_three()\n",
        "\n",
        "    #split data into training and test sets\n",
        "    X_train, X_test, y_train, y_test = train_test_split(X, y, random_state=0)\n",
        "\n",
        "    return (X_train, X_test, y_train, y_test)\n",
        "\n",
        "#check shapes of returned values\n",
        "X_train, X_test, y_train, y_test = answer_four()\n",
        "(X_train.shape, X_test.shape, y_train.shape, y_test.shape)"
      ],
      "metadata": {
        "colab": {
          "base_uri": "https://localhost:8080/",
          "height": 0
        },
        "id": "v5ZuJrsnPO-Z",
        "outputId": "e9bf7d52-d589-4785-cbad-880cabc81139"
      },
      "execution_count": 8,
      "outputs": [
        {
          "output_type": "execute_result",
          "data": {
            "text/plain": [
              "((426, 30), (143, 30), (426,), (143,))"
            ]
          },
          "metadata": {},
          "execution_count": 8
        }
      ]
    },
    {
      "cell_type": "markdown",
      "source": [
        "## Question 5\n",
        "Using KNeighborsClassifier, fit a k-nearest neighbors (knn) classifier with `X_train`, `y_train` and using one nearest neighbor (`n_neighbors = 1`).\n",
        "\n",
        "*This function should return a* `sklearn.neighbors.classification.KNeighborsClassifier`.\n"
      ],
      "metadata": {
        "id": "dDVvzx4fSgDB"
      }
    },
    {
      "cell_type": "code",
      "source": [
        "from sklearn.neighbors import KNeighborsClassifier\n",
        "\n",
        "#fit a k-nearest neighbors classifier\n",
        "def answer_five():\n",
        "    X_train, X_test, y_train, y_test = answer_four()\n",
        "\n",
        "    #creating and training k-nearest neighbors classifier\n",
        "    knn = KNeighborsClassifier(n_neighbors=1)\n",
        "    knn.fit(X_train, y_train)\n",
        "\n",
        "    return knn\n",
        "\n",
        "knn_classifier = answer_five()\n",
        "knn_classifier"
      ],
      "metadata": {
        "colab": {
          "base_uri": "https://localhost:8080/",
          "height": 75
        },
        "id": "U3zaMI-5PRC1",
        "outputId": "d8a8aa26-d049-499b-bc68-3a25a619e2d1"
      },
      "execution_count": 9,
      "outputs": [
        {
          "output_type": "execute_result",
          "data": {
            "text/plain": [
              "KNeighborsClassifier(n_neighbors=1)"
            ],
            "text/html": [
              "<style>#sk-container-id-1 {color: black;background-color: white;}#sk-container-id-1 pre{padding: 0;}#sk-container-id-1 div.sk-toggleable {background-color: white;}#sk-container-id-1 label.sk-toggleable__label {cursor: pointer;display: block;width: 100%;margin-bottom: 0;padding: 0.3em;box-sizing: border-box;text-align: center;}#sk-container-id-1 label.sk-toggleable__label-arrow:before {content: \"▸\";float: left;margin-right: 0.25em;color: #696969;}#sk-container-id-1 label.sk-toggleable__label-arrow:hover:before {color: black;}#sk-container-id-1 div.sk-estimator:hover label.sk-toggleable__label-arrow:before {color: black;}#sk-container-id-1 div.sk-toggleable__content {max-height: 0;max-width: 0;overflow: hidden;text-align: left;background-color: #f0f8ff;}#sk-container-id-1 div.sk-toggleable__content pre {margin: 0.2em;color: black;border-radius: 0.25em;background-color: #f0f8ff;}#sk-container-id-1 input.sk-toggleable__control:checked~div.sk-toggleable__content {max-height: 200px;max-width: 100%;overflow: auto;}#sk-container-id-1 input.sk-toggleable__control:checked~label.sk-toggleable__label-arrow:before {content: \"▾\";}#sk-container-id-1 div.sk-estimator input.sk-toggleable__control:checked~label.sk-toggleable__label {background-color: #d4ebff;}#sk-container-id-1 div.sk-label input.sk-toggleable__control:checked~label.sk-toggleable__label {background-color: #d4ebff;}#sk-container-id-1 input.sk-hidden--visually {border: 0;clip: rect(1px 1px 1px 1px);clip: rect(1px, 1px, 1px, 1px);height: 1px;margin: -1px;overflow: hidden;padding: 0;position: absolute;width: 1px;}#sk-container-id-1 div.sk-estimator {font-family: monospace;background-color: #f0f8ff;border: 1px dotted black;border-radius: 0.25em;box-sizing: border-box;margin-bottom: 0.5em;}#sk-container-id-1 div.sk-estimator:hover {background-color: #d4ebff;}#sk-container-id-1 div.sk-parallel-item::after {content: \"\";width: 100%;border-bottom: 1px solid gray;flex-grow: 1;}#sk-container-id-1 div.sk-label:hover label.sk-toggleable__label {background-color: #d4ebff;}#sk-container-id-1 div.sk-serial::before {content: \"\";position: absolute;border-left: 1px solid gray;box-sizing: border-box;top: 0;bottom: 0;left: 50%;z-index: 0;}#sk-container-id-1 div.sk-serial {display: flex;flex-direction: column;align-items: center;background-color: white;padding-right: 0.2em;padding-left: 0.2em;position: relative;}#sk-container-id-1 div.sk-item {position: relative;z-index: 1;}#sk-container-id-1 div.sk-parallel {display: flex;align-items: stretch;justify-content: center;background-color: white;position: relative;}#sk-container-id-1 div.sk-item::before, #sk-container-id-1 div.sk-parallel-item::before {content: \"\";position: absolute;border-left: 1px solid gray;box-sizing: border-box;top: 0;bottom: 0;left: 50%;z-index: -1;}#sk-container-id-1 div.sk-parallel-item {display: flex;flex-direction: column;z-index: 1;position: relative;background-color: white;}#sk-container-id-1 div.sk-parallel-item:first-child::after {align-self: flex-end;width: 50%;}#sk-container-id-1 div.sk-parallel-item:last-child::after {align-self: flex-start;width: 50%;}#sk-container-id-1 div.sk-parallel-item:only-child::after {width: 0;}#sk-container-id-1 div.sk-dashed-wrapped {border: 1px dashed gray;margin: 0 0.4em 0.5em 0.4em;box-sizing: border-box;padding-bottom: 0.4em;background-color: white;}#sk-container-id-1 div.sk-label label {font-family: monospace;font-weight: bold;display: inline-block;line-height: 1.2em;}#sk-container-id-1 div.sk-label-container {text-align: center;}#sk-container-id-1 div.sk-container {/* jupyter's `normalize.less` sets `[hidden] { display: none; }` but bootstrap.min.css set `[hidden] { display: none !important; }` so we also need the `!important` here to be able to override the default hidden behavior on the sphinx rendered scikit-learn.org. See: https://github.com/scikit-learn/scikit-learn/issues/21755 */display: inline-block !important;position: relative;}#sk-container-id-1 div.sk-text-repr-fallback {display: none;}</style><div id=\"sk-container-id-1\" class=\"sk-top-container\"><div class=\"sk-text-repr-fallback\"><pre>KNeighborsClassifier(n_neighbors=1)</pre><b>In a Jupyter environment, please rerun this cell to show the HTML representation or trust the notebook. <br />On GitHub, the HTML representation is unable to render, please try loading this page with nbviewer.org.</b></div><div class=\"sk-container\" hidden><div class=\"sk-item\"><div class=\"sk-estimator sk-toggleable\"><input class=\"sk-toggleable__control sk-hidden--visually\" id=\"sk-estimator-id-1\" type=\"checkbox\" checked><label for=\"sk-estimator-id-1\" class=\"sk-toggleable__label sk-toggleable__label-arrow\">KNeighborsClassifier</label><div class=\"sk-toggleable__content\"><pre>KNeighborsClassifier(n_neighbors=1)</pre></div></div></div></div></div>"
            ]
          },
          "metadata": {},
          "execution_count": 9
        }
      ]
    },
    {
      "cell_type": "markdown",
      "source": [
        "## Question 6\n",
        "Using your knn classifier, predict the class label using the mean value for each feature.\n",
        "\n",
        "Hint: You can use `cancerdf.mean()[:-1].values.reshape(1, -1)` which gets the mean value for each feature, ignores the target column, and reshapes the data from 1 dimension to 2 (necessary for the precict method of KNeighborsClassifier).\n",
        "\n",
        "*This function should return a numpy array either `array([ 0.])` or `array([1.])`*"
      ],
      "metadata": {
        "id": "DfDCMr5ASmWR"
      }
    },
    {
      "cell_type": "code",
      "source": [
        "#predict the class label using mean value for each feature\n",
        "def answer_six():\n",
        "    cancerdf = answer_one()\n",
        "    means = cancerdf.mean()[:-1].values.reshape(1, -1)\n",
        "\n",
        "    #get trained knn classifier from previous function\n",
        "    knn = answer_five()\n",
        "\n",
        "    #predict class label\n",
        "    prediction = knn.predict(means)\n",
        "\n",
        "    return prediction\n",
        "\n",
        "answer_six()\n"
      ],
      "metadata": {
        "colab": {
          "base_uri": "https://localhost:8080/",
          "height": 0
        },
        "id": "6S2j_v_4PTDP",
        "outputId": "a26eb387-e94a-42af-98f8-4e8c19d9f7d1"
      },
      "execution_count": 10,
      "outputs": [
        {
          "output_type": "stream",
          "name": "stderr",
          "text": [
            "/usr/local/lib/python3.10/dist-packages/sklearn/base.py:439: UserWarning: X does not have valid feature names, but KNeighborsClassifier was fitted with feature names\n",
            "  warnings.warn(\n"
          ]
        },
        {
          "output_type": "execute_result",
          "data": {
            "text/plain": [
              "array([1])"
            ]
          },
          "metadata": {},
          "execution_count": 10
        }
      ]
    },
    {
      "cell_type": "markdown",
      "source": [
        "## Question 7\n",
        "Using your knn classifier, predict the class labels for the test set `X_test`.\n",
        "\n",
        "*This function should return a numpy array with shape `(143,)` and values either `0.0` or `1.0`.*"
      ],
      "metadata": {
        "id": "trkuWyQgSq4_"
      }
    },
    {
      "cell_type": "code",
      "source": [
        "#predict the class labels for test set X_test\n",
        "def answer_seven():\n",
        "    X_train, X_test, y_train, y_test = answer_four()\n",
        "    knn = answer_five()\n",
        "\n",
        "    #predicting the class labels for test set\n",
        "    test_predictions = knn.predict(X_test)\n",
        "\n",
        "    return test_predictions\n",
        "\n",
        "answer_seven()"
      ],
      "metadata": {
        "colab": {
          "base_uri": "https://localhost:8080/",
          "height": 0
        },
        "id": "ImG-TnKqPV7x",
        "outputId": "14cefaeb-c7bc-45eb-839a-9b1d06d2ef4d"
      },
      "execution_count": 11,
      "outputs": [
        {
          "output_type": "execute_result",
          "data": {
            "text/plain": [
              "array([1, 1, 1, 0, 1, 1, 1, 1, 1, 1, 0, 1, 1, 1, 0, 0, 1, 0, 0, 0, 0, 1,\n",
              "       1, 1, 0, 1, 1, 1, 1, 0, 1, 0, 1, 0, 1, 0, 1, 0, 1, 0, 0, 1, 0, 1,\n",
              "       0, 0, 1, 1, 1, 0, 0, 1, 0, 1, 1, 1, 1, 1, 1, 0, 0, 0, 1, 1, 0, 1,\n",
              "       0, 0, 0, 1, 1, 0, 1, 1, 0, 1, 1, 1, 1, 1, 0, 0, 0, 1, 0, 1, 1, 1,\n",
              "       0, 0, 1, 0, 1, 0, 1, 1, 0, 1, 1, 1, 1, 1, 1, 1, 0, 1, 0, 1, 0, 1,\n",
              "       1, 0, 0, 1, 1, 1, 0, 1, 1, 1, 1, 1, 1, 1, 0, 1, 1, 1, 1, 1, 0, 1,\n",
              "       1, 1, 1, 1, 1, 0, 0, 1, 1, 1, 0])"
            ]
          },
          "metadata": {},
          "execution_count": 11
        }
      ]
    },
    {
      "cell_type": "markdown",
      "source": [
        "## Question 8\n",
        "Find the score (mean accuracy) of your knn classifier using `X_test` and `y_test`.\n",
        "\n",
        "*This function should return a float between 0 and 1*"
      ],
      "metadata": {
        "id": "iDJUIoafS3nK"
      }
    },
    {
      "cell_type": "code",
      "source": [
        "#find the score (mean accuracy) of knn classifier\n",
        "def answer_eight():\n",
        "    X_train, X_test, y_train, y_test = answer_four()\n",
        "    knn = answer_five()\n",
        "\n",
        "    #calculating score (mean accuracy) of classifier\n",
        "    score = knn.score(X_test, y_test)\n",
        "\n",
        "    return score\n",
        "\n",
        "answer_eight()"
      ],
      "metadata": {
        "colab": {
          "base_uri": "https://localhost:8080/",
          "height": 0
        },
        "id": "du6A6twVPXHD",
        "outputId": "6cb07de3-c388-4129-cd4f-7dda11be40ef"
      },
      "execution_count": 12,
      "outputs": [
        {
          "output_type": "execute_result",
          "data": {
            "text/plain": [
              "0.916083916083916"
            ]
          },
          "metadata": {},
          "execution_count": 12
        }
      ]
    },
    {
      "cell_type": "markdown",
      "source": [
        "## Optional plot\n",
        "Try using the plotting function below to visualize the differet predicition scores between training and test sets, as well as malignant and benign cells."
      ],
      "metadata": {
        "id": "-W2tHa48S_B-"
      }
    },
    {
      "cell_type": "code",
      "source": [
        "def accuracy_plot():\n",
        "    import matplotlib.pyplot as plt\n",
        "\n",
        "    X_train, X_test, y_train, y_test = answer_four()\n",
        "\n",
        "    # Find the training and testing accuracies by target value (i.e. malignant, benign)\n",
        "    mal_train_X = X_train[y_train==0]\n",
        "    mal_train_y = y_train[y_train==0]\n",
        "    ben_train_X = X_train[y_train==1]\n",
        "    ben_train_y = y_train[y_train==1]\n",
        "\n",
        "    mal_test_X = X_test[y_test==0]\n",
        "    mal_test_y = y_test[y_test==0]\n",
        "    ben_test_X = X_test[y_test==1]\n",
        "    ben_test_y = y_test[y_test==1]\n",
        "\n",
        "    knn = answer_five()\n",
        "\n",
        "    scores = [knn.score(mal_train_X, mal_train_y), knn.score(ben_train_X, ben_train_y),\n",
        "              knn.score(mal_test_X, mal_test_y), knn.score(ben_test_X, ben_test_y)]\n",
        "\n",
        "\n",
        "    plt.figure()\n",
        "\n",
        "    # Plot the scores as a bar chart\n",
        "    bars = plt.bar(np.arange(4), scores, color=['#4c72b0','#4c72b0','#55a868','#55a868'])\n",
        "\n",
        "    # directly label the score onto the bars\n",
        "    for bar in bars:\n",
        "        height = bar.get_height()\n",
        "        plt.gca().text(bar.get_x() + bar.get_width()/2, height*.90, '{0:.{1}f}'.format(height, 2),\n",
        "                     ha='center', color='w', fontsize=11)\n",
        "\n",
        "    # remove all the ticks (both axes), and tick labels on the Y axis\n",
        "    plt.tick_params(top='off', bottom='off', left='off', right='off', labelleft='off', labelbottom='on')\n",
        "\n",
        "    # remove the frame of the chart\n",
        "    for spine in plt.gca().spines.values():\n",
        "        spine.set_visible(False)\n",
        "\n",
        "    plt.xticks([0,1,2,3], ['Malignant\\nTraining', 'Benign\\nTraining', 'Malignant\\nTest', 'Benign\\nTest'], alpha=0.8);\n",
        "    plt.title('Training and Test Accuracies for Malignant and Benign Cells', alpha=0.8)\n",
        "\n",
        "accuracy_plot()"
      ],
      "metadata": {
        "colab": {
          "base_uri": "https://localhost:8080/",
          "height": 468
        },
        "id": "Sq5DxsS1PbB0",
        "outputId": "7b0441d2-149a-4798-a1ba-0c2dfaceaa80"
      },
      "execution_count": 13,
      "outputs": [
        {
          "output_type": "display_data",
          "data": {
            "text/plain": [
              "<Figure size 640x480 with 1 Axes>"
            ],
            "image/png": "[encoded data removed]"
          },
          "metadata": {}
        }
      ]
    },
    {
      "cell_type": "markdown",
      "source": [
        "#Answer:\n",
        "The plot above shows that the classifier has learned to distinguish between malignant and benign cells quite well, with perfect accuracy on the training set and high accuracy on the test set.\n",
        "However, there is a decrease in accuracy from training to testing, especially for malignant cells, which might indicate overfitting to the training data or that the model finds malignant cells slightly more challenging to classify accurately in new data.\n",
        "The higher accuracy for benign cells in the test set suggests that the model is more reliable in classifying benign instances.\n"
      ],
      "metadata": {
        "id": "uSu3_Ftfkvl_"
      }
    }
  ]
}