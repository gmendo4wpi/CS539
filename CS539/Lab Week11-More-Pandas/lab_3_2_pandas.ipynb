{
  "cells": [
    {
      "cell_type": "markdown",
      "source": [
        "#Giorgio Mendoza\n",
        "#CS539-F23-F02\n",
        "#Dr. J. Sethi"
      ],
      "metadata": {
        "id": "4XiEqfAm3Sum"
      }
    },
    {
      "cell_type": "markdown",
      "metadata": {
        "id": "rXigdG_cPz_U"
      },
      "source": [
        "# Lab_3-2: More Pandas\n",
        "This assignment requires more individual learning then the last one did - you are encouraged to check out the [pandas documentation](http://pandas.pydata.org/pandas-docs/stable/) to find functions or methods you might not have used yet, or ask questions on [Stack Overflow](http://stackoverflow.com/) and tag them as pandas and python related. And of course, the discussion forums are open for interaction with your peers and the course staff.\n",
        "\n",
        "## Question 1\n",
        "Load the energy data from the file `Energy Indicators.xls`, which is a list of indicators of energy supply and renewable electricity production from the United Nations ([Energy%20Indicators.xls](http://unstats.un.org/unsd/environment/excel_file_tables/2013/Energy%20Indicators.xls)) for the year 2013, and put it into a DataFrame with the variable name of `energy`.\n",
        "\n",
        "### Data cleaning and munging\n",
        "Keep in mind that this is an Excel file and not a comma separated values (CSV) file. Also, make sure to exclude the footer and header information from the datafile. The first two columns are unneccessary, so you should get rid of them, and you should change the column labels so that the columns are:\n",
        "\n",
        "`['Country', 'Energy Supply', 'Energy Supply per Capita', '% Renewable']`\n",
        "\n",
        "Convert `Energy Supply` to gigajoules (there are 1,000,000 ($10^6$) gigajoules in a petajoule). For all countries which have missing data (e.g., data with \"...\"), make sure this is reflected as `np.NaN` values.\n",
        "\n",
        "Rename the following list of countries (for use in later questions):"
      ]
    },
    {
      "cell_type": "code",
      "execution_count": 22,
      "metadata": {
        "colab": {
          "base_uri": "https://localhost:8080/",
          "height": 224
        },
        "id": "zjuC6a3zPz_6",
        "outputId": "f2bd7499-b16d-4dd7-e4b8-4c57bdb09fe2"
      },
      "outputs": [
        {
          "output_type": "stream",
          "name": "stdout",
          "text": [
            "Drive already mounted at /content/drive; to attempt to forcibly remount, call drive.mount(\"/content/drive\", force_remount=True).\n"
          ]
        },
        {
          "output_type": "execute_result",
          "data": {
            "text/plain": [
              "          Country  Energy Supply  Energy Supply per Capita  % Renewable\n",
              "0     Afghanistan   3.210000e+08                      10.0    78.669280\n",
              "1         Albania   1.020000e+08                      35.0   100.000000\n",
              "2         Algeria   1.959000e+09                      51.0     0.551010\n",
              "3  American Samoa            NaN                       NaN     0.641026\n",
              "4         Andorra   9.000000e+06                     121.0    88.695650"
            ],
            "text/html": [
              "\n",
              "  <div id=\"df-942f45c5-a7d4-4f65-a75d-ade1b23ffe84\" class=\"colab-df-container\">\n",
              "    <div>\n",
              "<style scoped>\n",
              "    .dataframe tbody tr th:only-of-type {\n",
              "        vertical-align: middle;\n",
              "    }\n",
              "\n",
              "    .dataframe tbody tr th {\n",
              "        vertical-align: top;\n",
              "    }\n",
              "\n",
              "    .dataframe thead th {\n",
              "        text-align: right;\n",
              "    }\n",
              "</style>\n",
              "<table border=\"1\" class=\"dataframe\">\n",
              "  <thead>\n",
              "    <tr style=\"text-align: right;\">\n",
              "      <th></th>\n",
              "      <th>Country</th>\n",
              "      <th>Energy Supply</th>\n",
              "      <th>Energy Supply per Capita</th>\n",
              "      <th>% Renewable</th>\n",
              "    </tr>\n",
              "  </thead>\n",
              "  <tbody>\n",
              "    <tr>\n",
              "      <th>0</th>\n",
              "      <td>Afghanistan</td>\n",
              "      <td>3.210000e+08</td>\n",
              "      <td>10.0</td>\n",
              "      <td>78.669280</td>\n",
              "    </tr>\n",
              "    <tr>\n",
              "      <th>1</th>\n",
              "      <td>Albania</td>\n",
              "      <td>1.020000e+08</td>\n",
              "      <td>35.0</td>\n",
              "      <td>100.000000</td>\n",
              "    </tr>\n",
              "    <tr>\n",
              "      <th>2</th>\n",
              "      <td>Algeria</td>\n",
              "      <td>1.959000e+09</td>\n",
              "      <td>51.0</td>\n",
              "      <td>0.551010</td>\n",
              "    </tr>\n",
              "    <tr>\n",
              "      <th>3</th>\n",
              "      <td>American Samoa</td>\n",
              "      <td>NaN</td>\n",
              "      <td>NaN</td>\n",
              "      <td>0.641026</td>\n",
              "    </tr>\n",
              "    <tr>\n",
              "      <th>4</th>\n",
              "      <td>Andorra</td>\n",
              "      <td>9.000000e+06</td>\n",
              "      <td>121.0</td>\n",
              "      <td>88.695650</td>\n",
              "    </tr>\n",
              "  </tbody>\n",
              "</table>\n",
              "</div>\n",
              "    <div class=\"colab-df-buttons\">\n",
              "\n",
              "  <div class=\"colab-df-container\">\n",
              "    <button class=\"colab-df-convert\" onclick=\"convertToInteractive('df-942f45c5-a7d4-4f65-a75d-ade1b23ffe84')\"\n",
              "            title=\"Convert this dataframe to an interactive table.\"\n",
              "            style=\"display:none;\">\n",
              "\n",
              "  <svg xmlns=\"http://www.w3.org/2000/svg\" height=\"24px\" viewBox=\"0 -960 960 960\">\n",
              "    <path d=\"M120-120v-720h720v720H120Zm60-500h600v-160H180v160Zm220 220h160v-160H400v160Zm0 220h160v-160H400v160ZM180-400h160v-160H180v160Zm440 0h160v-160H620v160ZM180-180h160v-160H180v160Zm440 0h160v-160H620v160Z\"/>\n",
              "  </svg>\n",
              "    </button>\n",
              "\n",
              "  <style>\n",
              "    .colab-df-container {\n",
              "      display:flex;\n",
              "      gap: 12px;\n",
              "    }\n",
              "\n",
              "    .colab-df-convert {\n",
              "      background-color: #E8F0FE;\n",
              "      border: none;\n",
              "      border-radius: 50%;\n",
              "      cursor: pointer;\n",
              "      display: none;\n",
              "      fill: #1967D2;\n",
              "      height: 32px;\n",
              "      padding: 0 0 0 0;\n",
              "      width: 32px;\n",
              "    }\n",
              "\n",
              "    .colab-df-convert:hover {\n",
              "      background-color: #E2EBFA;\n",
              "      box-shadow: 0px 1px 2px rgba(60, 64, 67, 0.3), 0px 1px 3px 1px rgba(60, 64, 67, 0.15);\n",
              "      fill: #174EA6;\n",
              "    }\n",
              "\n",
              "    .colab-df-buttons div {\n",
              "      margin-bottom: 4px;\n",
              "    }\n",
              "\n",
              "    [theme=dark] .colab-df-convert {\n",
              "      background-color: #3B4455;\n",
              "      fill: #D2E3FC;\n",
              "    }\n",
              "\n",
              "    [theme=dark] .colab-df-convert:hover {\n",
              "      background-color: #434B5C;\n",
              "      box-shadow: 0px 1px 3px 1px rgba(0, 0, 0, 0.15);\n",
              "      filter: drop-shadow(0px 1px 2px rgba(0, 0, 0, 0.3));\n",
              "      fill: #FFFFFF;\n",
              "    }\n",
              "  </style>\n",
              "\n",
              "    <script>\n",
              "      const buttonEl =\n",
              "        document.querySelector('#df-942f45c5-a7d4-4f65-a75d-ade1b23ffe84 button.colab-df-convert');\n",
              "      buttonEl.style.display =\n",
              "        google.colab.kernel.accessAllowed ? 'block' : 'none';\n",
              "\n",
              "      async function convertToInteractive(key) {\n",
              "        const element = document.querySelector('#df-942f45c5-a7d4-4f65-a75d-ade1b23ffe84');\n",
              "        const dataTable =\n",
              "          await google.colab.kernel.invokeFunction('convertToInteractive',\n",
              "                                                    [key], {});\n",
              "        if (!dataTable) return;\n",
              "\n",
              "        const docLinkHtml = 'Like what you see? Visit the ' +\n",
              "          '<a target=\"_blank\" href=https://colab.research.google.com/notebooks/data_table.ipynb>data table notebook</a>'\n",
              "          + ' to learn more about interactive tables.';\n",
              "        element.innerHTML = '';\n",
              "        dataTable['output_type'] = 'display_data';\n",
              "        await google.colab.output.renderOutput(dataTable, element);\n",
              "        const docLink = document.createElement('div');\n",
              "        docLink.innerHTML = docLinkHtml;\n",
              "        element.appendChild(docLink);\n",
              "      }\n",
              "    </script>\n",
              "  </div>\n",
              "\n",
              "\n",
              "<div id=\"df-1af03c1b-a811-4cf9-b20e-f88bc2b0d68d\">\n",
              "  <button class=\"colab-df-quickchart\" onclick=\"quickchart('df-1af03c1b-a811-4cf9-b20e-f88bc2b0d68d')\"\n",
              "            title=\"Suggest charts\"\n",
              "            style=\"display:none;\">\n",
              "\n",
              "<svg xmlns=\"http://www.w3.org/2000/svg\" height=\"24px\"viewBox=\"0 0 24 24\"\n",
              "     width=\"24px\">\n",
              "    <g>\n",
              "        <path d=\"M19 3H5c-1.1 0-2 .9-2 2v14c0 1.1.9 2 2 2h14c1.1 0 2-.9 2-2V5c0-1.1-.9-2-2-2zM9 17H7v-7h2v7zm4 0h-2V7h2v10zm4 0h-2v-4h2v4z\"/>\n",
              "    </g>\n",
              "</svg>\n",
              "  </button>\n",
              "\n",
              "<style>\n",
              "  .colab-df-quickchart {\n",
              "      --bg-color: #E8F0FE;\n",
              "      --fill-color: #1967D2;\n",
              "      --hover-bg-color: #E2EBFA;\n",
              "      --hover-fill-color: #174EA6;\n",
              "      --disabled-fill-color: #AAA;\n",
              "      --disabled-bg-color: #DDD;\n",
              "  }\n",
              "\n",
              "  [theme=dark] .colab-df-quickchart {\n",
              "      --bg-color: #3B4455;\n",
              "      --fill-color: #D2E3FC;\n",
              "      --hover-bg-color: #434B5C;\n",
              "      --hover-fill-color: #FFFFFF;\n",
              "      --disabled-bg-color: #3B4455;\n",
              "      --disabled-fill-color: #666;\n",
              "  }\n",
              "\n",
              "  .colab-df-quickchart {\n",
              "    background-color: var(--bg-color);\n",
              "    border: none;\n",
              "    border-radius: 50%;\n",
              "    cursor: pointer;\n",
              "    display: none;\n",
              "    fill: var(--fill-color);\n",
              "    height: 32px;\n",
              "    padding: 0;\n",
              "    width: 32px;\n",
              "  }\n",
              "\n",
              "  .colab-df-quickchart:hover {\n",
              "    background-color: var(--hover-bg-color);\n",
              "    box-shadow: 0 1px 2px rgba(60, 64, 67, 0.3), 0 1px 3px 1px rgba(60, 64, 67, 0.15);\n",
              "    fill: var(--button-hover-fill-color);\n",
              "  }\n",
              "\n",
              "  .colab-df-quickchart-complete:disabled,\n",
              "  .colab-df-quickchart-complete:disabled:hover {\n",
              "    background-color: var(--disabled-bg-color);\n",
              "    fill: var(--disabled-fill-color);\n",
              "    box-shadow: none;\n",
              "  }\n",
              "\n",
              "  .colab-df-spinner {\n",
              "    border: 2px solid var(--fill-color);\n",
              "    border-color: transparent;\n",
              "    border-bottom-color: var(--fill-color);\n",
              "    animation:\n",
              "      spin 1s steps(1) infinite;\n",
              "  }\n",
              "\n",
              "  @keyframes spin {\n",
              "    0% {\n",
              "      border-color: transparent;\n",
              "      border-bottom-color: var(--fill-color);\n",
              "      border-left-color: var(--fill-color);\n",
              "    }\n",
              "    20% {\n",
              "      border-color: transparent;\n",
              "      border-left-color: var(--fill-color);\n",
              "      border-top-color: var(--fill-color);\n",
              "    }\n",
              "    30% {\n",
              "      border-color: transparent;\n",
              "      border-left-color: var(--fill-color);\n",
              "      border-top-color: var(--fill-color);\n",
              "      border-right-color: var(--fill-color);\n",
              "    }\n",
              "    40% {\n",
              "      border-color: transparent;\n",
              "      border-right-color: var(--fill-color);\n",
              "      border-top-color: var(--fill-color);\n",
              "    }\n",
              "    60% {\n",
              "      border-color: transparent;\n",
              "      border-right-color: var(--fill-color);\n",
              "    }\n",
              "    80% {\n",
              "      border-color: transparent;\n",
              "      border-right-color: var(--fill-color);\n",
              "      border-bottom-color: var(--fill-color);\n",
              "    }\n",
              "    90% {\n",
              "      border-color: transparent;\n",
              "      border-bottom-color: var(--fill-color);\n",
              "    }\n",
              "  }\n",
              "</style>\n",
              "\n",
              "  <script>\n",
              "    async function quickchart(key) {\n",
              "      const quickchartButtonEl =\n",
              "        document.querySelector('#' + key + ' button');\n",
              "      quickchartButtonEl.disabled = true;  // To prevent multiple clicks.\n",
              "      quickchartButtonEl.classList.add('colab-df-spinner');\n",
              "      try {\n",
              "        const charts = await google.colab.kernel.invokeFunction(\n",
              "            'suggestCharts', [key], {});\n",
              "      } catch (error) {\n",
              "        console.error('Error during call to suggestCharts:', error);\n",
              "      }\n",
              "      quickchartButtonEl.classList.remove('colab-df-spinner');\n",
              "      quickchartButtonEl.classList.add('colab-df-quickchart-complete');\n",
              "    }\n",
              "    (() => {\n",
              "      let quickchartButtonEl =\n",
              "        document.querySelector('#df-1af03c1b-a811-4cf9-b20e-f88bc2b0d68d button');\n",
              "      quickchartButtonEl.style.display =\n",
              "        google.colab.kernel.accessAllowed ? 'block' : 'none';\n",
              "    })();\n",
              "  </script>\n",
              "</div>\n",
              "    </div>\n",
              "  </div>\n"
            ]
          },
          "metadata": {},
          "execution_count": 22
        }
      ],
      "source": [
        "import pandas as pd\n",
        "import numpy as np\n",
        "from google.colab import drive\n",
        "drive.mount('/content/drive')\n",
        "\n",
        "file_path = '/content/drive/MyDrive/Colab Notebooks/Energy Indicators.xlsx'\n",
        "\n",
        "energy = pd.read_excel(file_path, skipfooter=38, skiprows=17)\n",
        "\n",
        "#drop first two columns\n",
        "energy.drop(energy.columns[[0, 1]], axis=1, inplace=True)\n",
        "\n",
        "#rename columns\n",
        "energy.columns = ['Country', 'Energy Supply', 'Energy Supply per Capita', '% Renewable']\n",
        "\n",
        "#convert Energy Supply to gigajoules (1 petajoule = 1,000,000 gigajoules)\n",
        "energy['Energy Supply'] = pd.to_numeric(energy['Energy Supply'], errors='coerce') * 1000000\n",
        "\n",
        "#replace '...' with np.NaN\n",
        "energy.replace('...', np.NaN, inplace=True)\n",
        "\n",
        "country_rename = {\n",
        "    \"Republic of Korea\": \"South Korea\",\n",
        "    \"United States of America\": \"United States\",\n",
        "    \"United Kingdom of Great Britain and Northern Ireland\": \"United Kingdom\",\n",
        "    \"China, Hong Kong Special Administrative Region\": \"Hong Kong\"\n",
        "}\n",
        "energy['Country'] = energy['Country'].replace(country_rename)\n",
        "energy.head(5)\n"
      ]
    },
    {
      "cell_type": "markdown",
      "metadata": {
        "id": "1Ra8r-UiPz_8"
      },
      "source": [
        "There are also several countries with numbers and/or parenthesis in their name. Be sure to remove these, e.g.:\n",
        "\n",
        "`'Bolivia (Plurinational State of)'` should be `'Bolivia'` and `'Switzerland17'` should be `'Switzerland'`.\n",
        "\n",
        "Next, load the GDP data from the file `world_bank.csv`, which should be a csv containing countries' GDP from 1960 onwards from the [World Bank](http://data.worldbank.org/indicator/NY.GDP.MKTP.CD): [world_bank.csv](http://api.worldbank.org/v2/en/indicator/NY.GDP.MKTP.CD?downloadformat=csv). Call this DataFrame `GDP`.\n",
        "\n",
        "Make sure to skip the header, and rename the following list of countries:"
      ]
    },
    {
      "cell_type": "code",
      "execution_count": 15,
      "metadata": {
        "colab": {
          "base_uri": "https://localhost:8080/",
          "height": 481
        },
        "id": "IjujlU3gPz_9",
        "outputId": "8d5296ee-3707-428d-f9b3-c23deb9a8dae"
      },
      "outputs": [
        {
          "output_type": "stream",
          "name": "stdout",
          "text": [
            "Drive already mounted at /content/drive; to attempt to forcibly remount, call drive.mount(\"/content/drive\", force_remount=True).\n"
          ]
        },
        {
          "output_type": "execute_result",
          "data": {
            "text/plain": [
              "                  Country Name Country Code     Indicator Name  \\\n",
              "0                        Aruba          ABW  GDP (current US$)   \n",
              "1  Africa Eastern and Southern          AFE  GDP (current US$)   \n",
              "2                  Afghanistan          AFG  GDP (current US$)   \n",
              "3   Africa Western and Central          AFW  GDP (current US$)   \n",
              "4                       Angola          AGO  GDP (current US$)   \n",
              "\n",
              "   Indicator Code          1960          1961          1962          1963  \\\n",
              "0  NY.GDP.MKTP.CD           NaN           NaN           NaN           NaN   \n",
              "1  NY.GDP.MKTP.CD  2.129059e+10  2.180847e+10  2.370702e+10  2.821004e+10   \n",
              "2  NY.GDP.MKTP.CD  5.377778e+08  5.488889e+08  5.466667e+08  7.511112e+08   \n",
              "3  NY.GDP.MKTP.CD  1.040414e+10  1.112789e+10  1.194319e+10  1.267633e+10   \n",
              "4  NY.GDP.MKTP.CD           NaN           NaN           NaN           NaN   \n",
              "\n",
              "           1964          1965  ...          2014          2015          2016  \\\n",
              "0           NaN           NaN  ...  2.791061e+09  2.963128e+09  2.983799e+09   \n",
              "1  2.611879e+10  2.968217e+10  ...  1.003679e+12  9.242525e+11  8.823551e+11   \n",
              "2  8.000000e+08  1.006667e+09  ...  2.049713e+10  1.913421e+10  1.811656e+10   \n",
              "3  1.383837e+10  1.486223e+10  ...  8.649905e+11  7.607345e+11  6.905464e+11   \n",
              "4           NaN           NaN  ...  1.372444e+11  8.721929e+10  4.984049e+10   \n",
              "\n",
              "           2017          2018          2019          2020          2021  \\\n",
              "0  3.092179e+09  3.202235e+09  3.310056e+09  2.496648e+09           NaN   \n",
              "1  1.020647e+12  9.910223e+11  9.975340e+11  9.216459e+11  1.082096e+12   \n",
              "2  1.875347e+10  1.805323e+10  1.879945e+10  2.011614e+10           NaN   \n",
              "3  6.837487e+11  7.416899e+11  7.945430e+11  7.844457e+11  8.358084e+11   \n",
              "4  6.897276e+10  7.779294e+10  6.930910e+10  5.361907e+10  7.254699e+10   \n",
              "\n",
              "   Unnamed: 66                      Country  \n",
              "0          NaN                        Aruba  \n",
              "1          NaN  Africa Eastern and Southern  \n",
              "2          NaN                  Afghanistan  \n",
              "3          NaN   Africa Western and Central  \n",
              "4          NaN                       Angola  \n",
              "\n",
              "[5 rows x 68 columns]"
            ],
            "text/html": [
              "\n",
              "  <div id=\"df-f9769615-0c72-463e-90e1-20ef6c75118b\" class=\"colab-df-container\">\n",
              "    <div>\n",
              "<style scoped>\n",
              "    .dataframe tbody tr th:only-of-type {\n",
              "        vertical-align: middle;\n",
              "    }\n",
              "\n",
              "    .dataframe tbody tr th {\n",
              "        vertical-align: top;\n",
              "    }\n",
              "\n",
              "    .dataframe thead th {\n",
              "        text-align: right;\n",
              "    }\n",
              "</style>\n",
              "<table border=\"1\" class=\"dataframe\">\n",
              "  <thead>\n",
              "    <tr style=\"text-align: right;\">\n",
              "      <th></th>\n",
              "      <th>Country Name</th>\n",
              "      <th>Country Code</th>\n",
              "      <th>Indicator Name</th>\n",
              "      <th>Indicator Code</th>\n",
              "      <th>1960</th>\n",
              "      <th>1961</th>\n",
              "      <th>1962</th>\n",
              "      <th>1963</th>\n",
              "      <th>1964</th>\n",
              "      <th>1965</th>\n",
              "      <th>...</th>\n",
              "      <th>2014</th>\n",
              "      <th>2015</th>\n",
              "      <th>2016</th>\n",
              "      <th>2017</th>\n",
              "      <th>2018</th>\n",
              "      <th>2019</th>\n",
              "      <th>2020</th>\n",
              "      <th>2021</th>\n",
              "      <th>Unnamed: 66</th>\n",
              "      <th>Country</th>\n",
              "    </tr>\n",
              "  </thead>\n",
              "  <tbody>\n",
              "    <tr>\n",
              "      <th>0</th>\n",
              "      <td>Aruba</td>\n",
              "      <td>ABW</td>\n",
              "      <td>GDP (current US$)</td>\n",
              "      <td>NY.GDP.MKTP.CD</td>\n",
              "      <td>NaN</td>\n",
              "      <td>NaN</td>\n",
              "      <td>NaN</td>\n",
              "      <td>NaN</td>\n",
              "      <td>NaN</td>\n",
              "      <td>NaN</td>\n",
              "      <td>...</td>\n",
              "      <td>2.791061e+09</td>\n",
              "      <td>2.963128e+09</td>\n",
              "      <td>2.983799e+09</td>\n",
              "      <td>3.092179e+09</td>\n",
              "      <td>3.202235e+09</td>\n",
              "      <td>3.310056e+09</td>\n",
              "      <td>2.496648e+09</td>\n",
              "      <td>NaN</td>\n",
              "      <td>NaN</td>\n",
              "      <td>Aruba</td>\n",
              "    </tr>\n",
              "    <tr>\n",
              "      <th>1</th>\n",
              "      <td>Africa Eastern and Southern</td>\n",
              "      <td>AFE</td>\n",
              "      <td>GDP (current US$)</td>\n",
              "      <td>NY.GDP.MKTP.CD</td>\n",
              "      <td>2.129059e+10</td>\n",
              "      <td>2.180847e+10</td>\n",
              "      <td>2.370702e+10</td>\n",
              "      <td>2.821004e+10</td>\n",
              "      <td>2.611879e+10</td>\n",
              "      <td>2.968217e+10</td>\n",
              "      <td>...</td>\n",
              "      <td>1.003679e+12</td>\n",
              "      <td>9.242525e+11</td>\n",
              "      <td>8.823551e+11</td>\n",
              "      <td>1.020647e+12</td>\n",
              "      <td>9.910223e+11</td>\n",
              "      <td>9.975340e+11</td>\n",
              "      <td>9.216459e+11</td>\n",
              "      <td>1.082096e+12</td>\n",
              "      <td>NaN</td>\n",
              "      <td>Africa Eastern and Southern</td>\n",
              "    </tr>\n",
              "    <tr>\n",
              "      <th>2</th>\n",
              "      <td>Afghanistan</td>\n",
              "      <td>AFG</td>\n",
              "      <td>GDP (current US$)</td>\n",
              "      <td>NY.GDP.MKTP.CD</td>\n",
              "      <td>5.377778e+08</td>\n",
              "      <td>5.488889e+08</td>\n",
              "      <td>5.466667e+08</td>\n",
              "      <td>7.511112e+08</td>\n",
              "      <td>8.000000e+08</td>\n",
              "      <td>1.006667e+09</td>\n",
              "      <td>...</td>\n",
              "      <td>2.049713e+10</td>\n",
              "      <td>1.913421e+10</td>\n",
              "      <td>1.811656e+10</td>\n",
              "      <td>1.875347e+10</td>\n",
              "      <td>1.805323e+10</td>\n",
              "      <td>1.879945e+10</td>\n",
              "      <td>2.011614e+10</td>\n",
              "      <td>NaN</td>\n",
              "      <td>NaN</td>\n",
              "      <td>Afghanistan</td>\n",
              "    </tr>\n",
              "    <tr>\n",
              "      <th>3</th>\n",
              "      <td>Africa Western and Central</td>\n",
              "      <td>AFW</td>\n",
              "      <td>GDP (current US$)</td>\n",
              "      <td>NY.GDP.MKTP.CD</td>\n",
              "      <td>1.040414e+10</td>\n",
              "      <td>1.112789e+10</td>\n",
              "      <td>1.194319e+10</td>\n",
              "      <td>1.267633e+10</td>\n",
              "      <td>1.383837e+10</td>\n",
              "      <td>1.486223e+10</td>\n",
              "      <td>...</td>\n",
              "      <td>8.649905e+11</td>\n",
              "      <td>7.607345e+11</td>\n",
              "      <td>6.905464e+11</td>\n",
              "      <td>6.837487e+11</td>\n",
              "      <td>7.416899e+11</td>\n",
              "      <td>7.945430e+11</td>\n",
              "      <td>7.844457e+11</td>\n",
              "      <td>8.358084e+11</td>\n",
              "      <td>NaN</td>\n",
              "      <td>Africa Western and Central</td>\n",
              "    </tr>\n",
              "    <tr>\n",
              "      <th>4</th>\n",
              "      <td>Angola</td>\n",
              "      <td>AGO</td>\n",
              "      <td>GDP (current US$)</td>\n",
              "      <td>NY.GDP.MKTP.CD</td>\n",
              "      <td>NaN</td>\n",
              "      <td>NaN</td>\n",
              "      <td>NaN</td>\n",
              "      <td>NaN</td>\n",
              "      <td>NaN</td>\n",
              "      <td>NaN</td>\n",
              "      <td>...</td>\n",
              "      <td>1.372444e+11</td>\n",
              "      <td>8.721929e+10</td>\n",
              "      <td>4.984049e+10</td>\n",
              "      <td>6.897276e+10</td>\n",
              "      <td>7.779294e+10</td>\n",
              "      <td>6.930910e+10</td>\n",
              "      <td>5.361907e+10</td>\n",
              "      <td>7.254699e+10</td>\n",
              "      <td>NaN</td>\n",
              "      <td>Angola</td>\n",
              "    </tr>\n",
              "  </tbody>\n",
              "</table>\n",
              "<p>5 rows × 68 columns</p>\n",
              "</div>\n",
              "    <div class=\"colab-df-buttons\">\n",
              "\n",
              "  <div class=\"colab-df-container\">\n",
              "    <button class=\"colab-df-convert\" onclick=\"convertToInteractive('df-f9769615-0c72-463e-90e1-20ef6c75118b')\"\n",
              "            title=\"Convert this dataframe to an interactive table.\"\n",
              "            style=\"display:none;\">\n",
              "\n",
              "  <svg xmlns=\"http://www.w3.org/2000/svg\" height=\"24px\" viewBox=\"0 -960 960 960\">\n",
              "    <path d=\"M120-120v-720h720v720H120Zm60-500h600v-160H180v160Zm220 220h160v-160H400v160Zm0 220h160v-160H400v160ZM180-400h160v-160H180v160Zm440 0h160v-160H620v160ZM180-180h160v-160H180v160Zm440 0h160v-160H620v160Z\"/>\n",
              "  </svg>\n",
              "    </button>\n",
              "\n",
              "  <style>\n",
              "    .colab-df-container {\n",
              "      display:flex;\n",
              "      gap: 12px;\n",
              "    }\n",
              "\n",
              "    .colab-df-convert {\n",
              "      background-color: #E8F0FE;\n",
              "      border: none;\n",
              "      border-radius: 50%;\n",
              "      cursor: pointer;\n",
              "      display: none;\n",
              "      fill: #1967D2;\n",
              "      height: 32px;\n",
              "      padding: 0 0 0 0;\n",
              "      width: 32px;\n",
              "    }\n",
              "\n",
              "    .colab-df-convert:hover {\n",
              "      background-color: #E2EBFA;\n",
              "      box-shadow: 0px 1px 2px rgba(60, 64, 67, 0.3), 0px 1px 3px 1px rgba(60, 64, 67, 0.15);\n",
              "      fill: #174EA6;\n",
              "    }\n",
              "\n",
              "    .colab-df-buttons div {\n",
              "      margin-bottom: 4px;\n",
              "    }\n",
              "\n",
              "    [theme=dark] .colab-df-convert {\n",
              "      background-color: #3B4455;\n",
              "      fill: #D2E3FC;\n",
              "    }\n",
              "\n",
              "    [theme=dark] .colab-df-convert:hover {\n",
              "      background-color: #434B5C;\n",
              "      box-shadow: 0px 1px 3px 1px rgba(0, 0, 0, 0.15);\n",
              "      filter: drop-shadow(0px 1px 2px rgba(0, 0, 0, 0.3));\n",
              "      fill: #FFFFFF;\n",
              "    }\n",
              "  </style>\n",
              "\n",
              "    <script>\n",
              "      const buttonEl =\n",
              "        document.querySelector('#df-f9769615-0c72-463e-90e1-20ef6c75118b button.colab-df-convert');\n",
              "      buttonEl.style.display =\n",
              "        google.colab.kernel.accessAllowed ? 'block' : 'none';\n",
              "\n",
              "      async function convertToInteractive(key) {\n",
              "        const element = document.querySelector('#df-f9769615-0c72-463e-90e1-20ef6c75118b');\n",
              "        const dataTable =\n",
              "          await google.colab.kernel.invokeFunction('convertToInteractive',\n",
              "                                                    [key], {});\n",
              "        if (!dataTable) return;\n",
              "\n",
              "        const docLinkHtml = 'Like what you see? Visit the ' +\n",
              "          '<a target=\"_blank\" href=https://colab.research.google.com/notebooks/data_table.ipynb>data table notebook</a>'\n",
              "          + ' to learn more about interactive tables.';\n",
              "        element.innerHTML = '';\n",
              "        dataTable['output_type'] = 'display_data';\n",
              "        await google.colab.output.renderOutput(dataTable, element);\n",
              "        const docLink = document.createElement('div');\n",
              "        docLink.innerHTML = docLinkHtml;\n",
              "        element.appendChild(docLink);\n",
              "      }\n",
              "    </script>\n",
              "  </div>\n",
              "\n",
              "\n",
              "<div id=\"df-0bc9df65-60f9-484b-818f-2b73987b5d16\">\n",
              "  <button class=\"colab-df-quickchart\" onclick=\"quickchart('df-0bc9df65-60f9-484b-818f-2b73987b5d16')\"\n",
              "            title=\"Suggest charts\"\n",
              "            style=\"display:none;\">\n",
              "\n",
              "<svg xmlns=\"http://www.w3.org/2000/svg\" height=\"24px\"viewBox=\"0 0 24 24\"\n",
              "     width=\"24px\">\n",
              "    <g>\n",
              "        <path d=\"M19 3H5c-1.1 0-2 .9-2 2v14c0 1.1.9 2 2 2h14c1.1 0 2-.9 2-2V5c0-1.1-.9-2-2-2zM9 17H7v-7h2v7zm4 0h-2V7h2v10zm4 0h-2v-4h2v4z\"/>\n",
              "    </g>\n",
              "</svg>\n",
              "  </button>\n",
              "\n",
              "<style>\n",
              "  .colab-df-quickchart {\n",
              "      --bg-color: #E8F0FE;\n",
              "      --fill-color: #1967D2;\n",
              "      --hover-bg-color: #E2EBFA;\n",
              "      --hover-fill-color: #174EA6;\n",
              "      --disabled-fill-color: #AAA;\n",
              "      --disabled-bg-color: #DDD;\n",
              "  }\n",
              "\n",
              "  [theme=dark] .colab-df-quickchart {\n",
              "      --bg-color: #3B4455;\n",
              "      --fill-color: #D2E3FC;\n",
              "      --hover-bg-color: #434B5C;\n",
              "      --hover-fill-color: #FFFFFF;\n",
              "      --disabled-bg-color: #3B4455;\n",
              "      --disabled-fill-color: #666;\n",
              "  }\n",
              "\n",
              "  .colab-df-quickchart {\n",
              "    background-color: var(--bg-color);\n",
              "    border: none;\n",
              "    border-radius: 50%;\n",
              "    cursor: pointer;\n",
              "    display: none;\n",
              "    fill: var(--fill-color);\n",
              "    height: 32px;\n",
              "    padding: 0;\n",
              "    width: 32px;\n",
              "  }\n",
              "\n",
              "  .colab-df-quickchart:hover {\n",
              "    background-color: var(--hover-bg-color);\n",
              "    box-shadow: 0 1px 2px rgba(60, 64, 67, 0.3), 0 1px 3px 1px rgba(60, 64, 67, 0.15);\n",
              "    fill: var(--button-hover-fill-color);\n",
              "  }\n",
              "\n",
              "  .colab-df-quickchart-complete:disabled,\n",
              "  .colab-df-quickchart-complete:disabled:hover {\n",
              "    background-color: var(--disabled-bg-color);\n",
              "    fill: var(--disabled-fill-color);\n",
              "    box-shadow: none;\n",
              "  }\n",
              "\n",
              "  .colab-df-spinner {\n",
              "    border: 2px solid var(--fill-color);\n",
              "    border-color: transparent;\n",
              "    border-bottom-color: var(--fill-color);\n",
              "    animation:\n",
              "      spin 1s steps(1) infinite;\n",
              "  }\n",
              "\n",
              "  @keyframes spin {\n",
              "    0% {\n",
              "      border-color: transparent;\n",
              "      border-bottom-color: var(--fill-color);\n",
              "      border-left-color: var(--fill-color);\n",
              "    }\n",
              "    20% {\n",
              "      border-color: transparent;\n",
              "      border-left-color: var(--fill-color);\n",
              "      border-top-color: var(--fill-color);\n",
              "    }\n",
              "    30% {\n",
              "      border-color: transparent;\n",
              "      border-left-color: var(--fill-color);\n",
              "      border-top-color: var(--fill-color);\n",
              "      border-right-color: var(--fill-color);\n",
              "    }\n",
              "    40% {\n",
              "      border-color: transparent;\n",
              "      border-right-color: var(--fill-color);\n",
              "      border-top-color: var(--fill-color);\n",
              "    }\n",
              "    60% {\n",
              "      border-color: transparent;\n",
              "      border-right-color: var(--fill-color);\n",
              "    }\n",
              "    80% {\n",
              "      border-color: transparent;\n",
              "      border-right-color: var(--fill-color);\n",
              "      border-bottom-color: var(--fill-color);\n",
              "    }\n",
              "    90% {\n",
              "      border-color: transparent;\n",
              "      border-bottom-color: var(--fill-color);\n",
              "    }\n",
              "  }\n",
              "</style>\n",
              "\n",
              "  <script>\n",
              "    async function quickchart(key) {\n",
              "      const quickchartButtonEl =\n",
              "        document.querySelector('#' + key + ' button');\n",
              "      quickchartButtonEl.disabled = true;  // To prevent multiple clicks.\n",
              "      quickchartButtonEl.classList.add('colab-df-spinner');\n",
              "      try {\n",
              "        const charts = await google.colab.kernel.invokeFunction(\n",
              "            'suggestCharts', [key], {});\n",
              "      } catch (error) {\n",
              "        console.error('Error during call to suggestCharts:', error);\n",
              "      }\n",
              "      quickchartButtonEl.classList.remove('colab-df-spinner');\n",
              "      quickchartButtonEl.classList.add('colab-df-quickchart-complete');\n",
              "    }\n",
              "    (() => {\n",
              "      let quickchartButtonEl =\n",
              "        document.querySelector('#df-0bc9df65-60f9-484b-818f-2b73987b5d16 button');\n",
              "      quickchartButtonEl.style.display =\n",
              "        google.colab.kernel.accessAllowed ? 'block' : 'none';\n",
              "    })();\n",
              "  </script>\n",
              "</div>\n",
              "    </div>\n",
              "  </div>\n"
            ]
          },
          "metadata": {},
          "execution_count": 15
        }
      ],
      "source": [
        "import pandas as pd\n",
        "import numpy as np\n",
        "from google.colab import drive\n",
        "drive.mount('/content/drive')\n",
        "\n",
        "file_path = '/content/drive/MyDrive/Colab Notebooks/world_bank.csv'\n",
        "GDP = pd.read_csv(file_path, skiprows=4)\n",
        "\n",
        "#cleaning country names in energy DataFrame\n",
        "def clean_country_names(country):\n",
        "    #remove digits & contents within parentheses\n",
        "    country = ''.join([i for i in country if not i.isdigit()])\n",
        "    country = country.split(' (')[0]\n",
        "    return country\n",
        "\n",
        "GDP['Country'] = GDP['Country Name'].apply(clean_country_names)\n",
        "GDP.head(5)\n"
      ]
    },
    {
      "cell_type": "markdown",
      "metadata": {
        "id": "emOmzQPSPz_-"
      },
      "source": [
        "Finally, load the [Sciamgo Journal and Country Rank data for Energy Engineering and Power Technology](http://www.scimagojr.com/countryrank.php?category=2102) from the file `scimagojr-3.xlsx` (or its equivalent: [scimagojr.xlsx](https://www.scimagojr.com/countryrank.php?category=2102&out=xls)), which ranks countries based on their journal contributions in the aforementioned area. Call this DataFrame `ScimEn`.\n",
        "\n",
        "Join the three datasets: GDP, Energy, and ScimEn into a new dataset (using the intersection of country names). Use only the last 10 years that are in common of GDP data and only the top 15 countries by Scimagojr `Rank` (Rank 1 through 15). Tip: You could do this by dropping columns 1 - 50 for GDP first and then you'd only have 2006 - 2015 so you can then do the merge before selecting the top 15 (but you could also do it the other way by first merging and then dropping, as well).\n",
        "\n",
        "The index of this DataFrame should be the name of the country, and the columns should be (supposing years 2006 - 2015):\n",
        "\n",
        "`['Rank', 'Documents', 'Citable documents', 'Citations', 'Self-citations',  'Citations per document', 'H index', 'Energy Supply', 'Energy Supply per Capita', '% Renewable', '2006', '2007', '2008', '2009', '2010', '2011', '2012', '2013', '2014', '2015']`\n",
        "\n",
        "*This function should return a DataFrame with 20 columns and 15 entries.*"
      ]
    },
    {
      "cell_type": "code",
      "execution_count": 31,
      "metadata": {
        "colab": {
          "base_uri": "https://localhost:8080/",
          "height": 0
        },
        "id": "tuTQf13iPz__",
        "outputId": "3e8dae1a-6c5a-4315-af6e-e2fcb2e98a71"
      },
      "outputs": [
        {
          "output_type": "stream",
          "name": "stdout",
          "text": [
            "                    Rank            Region  Documents  Citable documents  \\\n",
            "Country                                                                    \n",
            "China                  1    Asiatic Region     360468             358777   \n",
            "United States          2  Northern America     199442             195042   \n",
            "India                  3    Asiatic Region      76103              74167   \n",
            "Japan                  4    Asiatic Region      56249              55680   \n",
            "United Kingdom         5    Western Europe      52572              51156   \n",
            "Germany                6    Western Europe      47781              46767   \n",
            "Russian Federation     7    Eastern Europe      43567              43290   \n",
            "Canada                 8  Northern America      39036              38276   \n",
            "Italy                  9    Western Europe      35991              34424   \n",
            "South Korea           10    Asiatic Region      35294              35005   \n",
            "Iran                  11       Middle East      29776              29448   \n",
            "France                12    Western Europe      29351              28759   \n",
            "Spain                 13    Western Europe      27880              27272   \n",
            "Australia             14    Pacific Region      25906              25237   \n",
            "Brazil                15     Latin America      25887              25493   \n",
            "\n",
            "                    Citations  Self-citations  Citations per document  \\\n",
            "Country                                                                 \n",
            "China                 3947871         2721067                   10.95   \n",
            "United States         3068926          911809                   15.39   \n",
            "India                  760964          284470                   10.00   \n",
            "Japan                  633294          142908                   11.26   \n",
            "United Kingdom         909276          154898                   17.30   \n",
            "Germany                641717          136121                   13.43   \n",
            "Russian Federation     175721           81059                    4.03   \n",
            "Canada                 787010          128387                   20.16   \n",
            "Italy                  529459          125153                   14.71   \n",
            "South Korea            503147           88993                   14.26   \n",
            "Iran                   511199          151184                   17.17   \n",
            "France                 471469           81389                   16.06   \n",
            "Spain                  515485           90639                   18.49   \n",
            "Australia              495278           73639                   19.12   \n",
            "Brazil                 260540           61982                   10.06   \n",
            "\n",
            "                    H index Energy Supply  Energy Supply per Capita  ...  \\\n",
            "Country                                                              ...   \n",
            "China                   308  127191000000                      93.0  ...   \n",
            "United States           422   90838000000                     286.0  ...   \n",
            "India                   217   33195000000                      26.0  ...   \n",
            "Japan                   217   18984000000                     149.0  ...   \n",
            "United Kingdom          267    7920000000                     124.0  ...   \n",
            "Germany                 230   13261000000                     165.0  ...   \n",
            "Russian Federation      103   30709000000                     214.0  ...   \n",
            "Canada                  263   10431000000                     296.0  ...   \n",
            "Italy                   192    6530000000                     109.0  ...   \n",
            "South Korea             182   11007000000                     221.0  ...   \n",
            "Iran                    179    9172000000                     119.0  ...   \n",
            "France                  205   10597000000                     166.0  ...   \n",
            "Spain                   202    4923000000                     106.0  ...   \n",
            "Australia               212    5386000000                     231.0  ...   \n",
            "Brazil                  145   12149000000                      59.0  ...   \n",
            "\n",
            "                            2006          2007          2008          2009  \\\n",
            "Country                                                                      \n",
            "China               2.752132e+12  3.550343e+12  4.594307e+12  5.101703e+12   \n",
            "United States       1.381559e+13  1.447423e+13  1.476986e+13  1.447806e+13   \n",
            "India               9.402599e+11  1.216735e+12  1.198896e+12  1.341887e+12   \n",
            "Japan               4.601663e+12  4.579751e+12  5.106679e+12  5.289493e+12   \n",
            "United Kingdom      2.717060e+12  3.106182e+12  2.938882e+12  2.425798e+12   \n",
            "Germany             2.994704e+12  3.425578e+12  3.745264e+12  3.411261e+12   \n",
            "Russian Federation  9.899305e+11  1.299706e+12  1.660846e+12  1.222644e+12   \n",
            "Canada              1.319265e+12  1.468820e+12  1.552990e+12  1.374625e+12   \n",
            "Italy               1.949552e+12  2.213102e+12  2.408655e+12  2.199929e+12   \n",
            "South Korea         1.053217e+12  1.172614e+12  1.047339e+12  9.439419e+11   \n",
            "Iran                2.662989e+11  3.498816e+11  4.123362e+11  4.163970e+11   \n",
            "France              2.320536e+12  2.660591e+12  2.930304e+12  2.700887e+12   \n",
            "Spain               1.260399e+12  1.474003e+12  1.631863e+12  1.491473e+12   \n",
            "Australia           7.475562e+11  8.539554e+11  1.055127e+12  9.280430e+11   \n",
            "Brazil              1.107627e+12  1.397114e+12  1.695855e+12  1.666996e+12   \n",
            "\n",
            "                            2010          2011          2012          2013  \\\n",
            "Country                                                                      \n",
            "China               6.087164e+12  7.551500e+12  8.532230e+12  9.570406e+12   \n",
            "United States       1.504896e+13  1.559973e+13  1.625397e+13  1.684319e+13   \n",
            "India               1.675615e+12  1.823050e+12  1.827638e+12  1.856722e+12   \n",
            "Japan               5.759072e+12  6.233147e+12  6.272363e+12  5.212328e+12   \n",
            "United Kingdom      2.491110e+12  2.674891e+12  2.719158e+12  2.803291e+12   \n",
            "Germany             3.399668e+12  3.749315e+12  3.527143e+12  3.733805e+12   \n",
            "Russian Federation  1.524917e+12  2.045926e+12  2.208296e+12  2.292473e+12   \n",
            "Canada              1.617343e+12  1.793327e+12  1.828366e+12  1.846597e+12   \n",
            "Italy               2.136100e+12  2.294994e+12  2.086958e+12  2.141924e+12   \n",
            "South Korea         1.144067e+12  1.253223e+12  1.278428e+12  1.370795e+12   \n",
            "Iran                4.868076e+11  6.261331e+11  6.440355e+11  4.927756e+11   \n",
            "France              2.645188e+12  2.865158e+12  2.683672e+12  2.811877e+12   \n",
            "Spain               1.422108e+12  1.480710e+12  1.324744e+12  1.355143e+12   \n",
            "Australia           1.147589e+12  1.397908e+12  1.546509e+12  1.576335e+12   \n",
            "Brazil              2.208838e+12  2.616157e+12  2.465228e+12  2.472819e+12   \n",
            "\n",
            "                            2014          2015  \n",
            "Country                                         \n",
            "China               1.047568e+13  1.106155e+13  \n",
            "United States       1.755068e+13  1.820602e+13  \n",
            "India               2.039127e+12  2.103588e+12  \n",
            "Japan               4.896994e+12  4.444931e+12  \n",
            "United Kingdom      3.087166e+12  2.956574e+12  \n",
            "Germany             3.889093e+12  3.357586e+12  \n",
            "Russian Federation  2.059242e+12  1.363481e+12  \n",
            "Canada              1.805750e+12  1.556509e+12  \n",
            "Italy               2.162010e+12  1.836638e+12  \n",
            "South Korea         1.484318e+12  1.465773e+12  \n",
            "Iran                4.603828e+11  4.082129e+11  \n",
            "France              2.855964e+12  2.439189e+12  \n",
            "Spain               1.371223e+12  1.195600e+12  \n",
            "Australia           1.467505e+12  1.350534e+12  \n",
            "Brazil              2.456044e+12  1.802212e+12  \n",
            "\n",
            "[15 rows x 21 columns]\n"
          ]
        }
      ],
      "source": [
        "import pandas as pd\n",
        "import numpy as np\n",
        "\n",
        "def answer_one():\n",
        "    #load & process ScimEn dataset\n",
        "    new_file_path_scimen = '/content/drive/MyDrive/Colab Notebooks/scimago.xls'\n",
        "    ScimEn = pd.read_excel(new_file_path_scimen)\n",
        "    ScimEn_sorted = ScimEn.sort_values(by='Rank', ascending=True)\n",
        "    top_15 = ScimEn_sorted.head(15)\n",
        "\n",
        "    #load & process Energy dataset\n",
        "    file_path_energy = '/content/drive/MyDrive/Colab Notebooks/Energy Indicators.xlsx'\n",
        "    energy = pd.read_excel(file_path_energy, skipfooter=38, skiprows=17)\n",
        "    energy.drop(energy.columns[[0, 1]], axis=1, inplace=True)\n",
        "    energy.columns = ['Country', 'Energy Supply', 'Energy Supply per Capita', '% Renewable']\n",
        "    energy['Energy Supply'] = energy['Energy Supply'] * 1000000  #assuming 'Energy Supply' is in petajoules\n",
        "    energy.replace('...', np.NaN, inplace=True)\n",
        "\n",
        "    #clean country names in Energy dataset\n",
        "    energy['Country'] = energy['Country'].replace('\\d+', '', regex=True)  #remove digits\n",
        "    energy['Country'] = energy['Country'].replace('\\s+\\(.*\\)', '', regex=True)  #remove contents within parentheses\n",
        "\n",
        "    #standardize country names\n",
        "    country_rename_energy = {\n",
        "        \"Republic of Korea\": \"South Korea\",\n",
        "        \"United States of America\": \"United States\",\n",
        "        \"United Kingdom of Great Britain and Northern Ireland\": \"United Kingdom\",\n",
        "        \"China, Hong Kong Special Administrative Region\": \"Hong Kong\"\n",
        "    }\n",
        "    energy['Country'] = energy['Country'].replace(country_rename_energy)\n",
        "\n",
        "    #oad & process GDP dataset\n",
        "    file_path_gdp = '/content/drive/MyDrive/Colab Notebooks/world_bank.csv'\n",
        "    GDP = pd.read_csv(file_path_gdp, skiprows=4)\n",
        "    GDP['Country'] = GDP['Country Name'].apply(lambda x: ''.join([i for i in x if not i.isdigit()]).split(' (')[0])\n",
        "\n",
        "    #renaming countries in GDP dataset\n",
        "    gdp_country_rename = {\n",
        "        \"Korea, Rep.\": \"South Korea\",\n",
        "        \"Iran, Islamic Rep.\": \"Iran\",\n",
        "        \"Hong Kong SAR, China\": \"Hong Kong\"\n",
        "    }\n",
        "    GDP['Country'] = GDP['Country'].replace(gdp_country_rename)\n",
        "\n",
        "    #selecting GDP data from years 2006 to 2015\n",
        "    columns_to_keep = ['Country', '2006', '2007', '2008', '2009', '2010', '2011', '2012', '2013', '2014', '2015']\n",
        "    GDP = GDP[columns_to_keep]\n",
        "\n",
        "    #merge datasets\n",
        "    merged_df = pd.merge(top_15, energy, how='inner', left_on='Country', right_on='Country')\n",
        "    final_df = pd.merge(merged_df, GDP, how='inner', left_on='Country', right_on='Country')\n",
        "\n",
        "    #set country name as index\n",
        "    final_df.set_index('Country', inplace=True)\n",
        "\n",
        "    return final_df\n",
        "\n",
        "result = answer_one()\n",
        "print(result)"
      ]
    },
    {
      "cell_type": "markdown",
      "metadata": {
        "id": "aH3TzL1LP0AA"
      },
      "source": [
        "## Question 2\n",
        "The previous question joined three datasets then reduced this to just the top 15 entries. When you joined the datasets, but before you reduced this to the top 15 items, how many entries did you lose?\n",
        "\n",
        "*This function should return a single number.*\n",
        "\n",
        "\n",
        "<svg width=\"800\" height=\"300\">\n",
        "  <circle cx=\"150\" cy=\"180\" r=\"80\" fill-opacity=\"0.2\" stroke=\"black\" stroke-width=\"2\" fill=\"blue\" />\n",
        "  <circle cx=\"200\" cy=\"100\" r=\"80\" fill-opacity=\"0.2\" stroke=\"black\" stroke-width=\"2\" fill=\"red\" />\n",
        "  <circle cx=\"100\" cy=\"100\" r=\"80\" fill-opacity=\"0.2\" stroke=\"black\" stroke-width=\"2\" fill=\"green\" />\n",
        "  <line x1=\"150\" y1=\"125\" x2=\"300\" y2=\"150\" stroke=\"black\" stroke-width=\"2\" fill=\"black\" stroke-dasharray=\"5,3\"/>\n",
        "  <text  x=\"300\" y=\"165\" font-family=\"Verdana\" font-size=\"35\">Keep intersection only: https://upload.wikimedia.org/wikipedia/commons/8/8d/Intersection_of_3_circles_7.svg</text>\n",
        "</svg>"
      ]
    },
    {
      "cell_type": "code",
      "execution_count": 35,
      "metadata": {
        "id": "t2rSMQpiP0AB",
        "colab": {
          "base_uri": "https://localhost:8080/",
          "height": 0
        },
        "outputId": "8b514aea-3bd0-40d3-ff3a-a0e73efeff54"
      },
      "outputs": [
        {
          "output_type": "stream",
          "name": "stdout",
          "text": [
            "145\n"
          ]
        }
      ],
      "source": [
        "import pandas as pd\n",
        "import numpy as np\n",
        "\n",
        "def answer_two():\n",
        "    # Load and process the ScimEn dataset (entire dataset this time)\n",
        "    new_file_path_scimen = '/content/drive/MyDrive/Colab Notebooks/scimago.xls'\n",
        "    ScimEn_all = pd.read_excel(new_file_path_scimen)\n",
        "\n",
        "    # [Repeat the process to load and clean the Energy and GDP datasets]\n",
        "\n",
        "    # Merge the datasets (using the entire ScimEn dataset)\n",
        "    merged_all = pd.merge(ScimEn_all, energy, how='inner', left_on='Country', right_on='Country')\n",
        "    merged_all = pd.merge(merged_all, GDP, how='inner', left_on='Country', right_on='Country')\n",
        "\n",
        "    # Load and process the top 15 ScimEn dataset\n",
        "    ScimEn_top_15 = ScimEn_all.sort_values(by='Rank', ascending=True).head(15)\n",
        "    merged_top_15 = pd.merge(ScimEn_top_15, energy, how='inner', left_on='Country', right_on='Country')\n",
        "    merged_top_15 = pd.merge(merged_top_15, GDP, how='inner', left_on='Country', right_on='Country')\n",
        "\n",
        "    # Calculate the difference in number of entries\n",
        "    entries_lost = len(merged_all) - len(merged_top_15)\n",
        "\n",
        "    return entries_lost\n",
        "\n",
        "# Call the function\n",
        "lost_entries = answer_two()\n",
        "print(lost_entries)\n"
      ]
    },
    {
      "cell_type": "markdown",
      "source": [
        "#Answer: I lost 145 according to the code above"
      ],
      "metadata": {
        "id": "rkxvw58433fe"
      }
    },
    {
      "cell_type": "markdown",
      "metadata": {
        "id": "4Vj67RSzP0AC"
      },
      "source": [
        "Answer the following questions in the context of only the top 15 countries by Scimagojr Rank (aka the DataFrame returned by `answer_one()`)\n",
        "\n",
        "\n",
        "## Question 3\n",
        "What is the average GDP over the last 10 years for each country? (exclude missing values from this calculation.)\n",
        "\n",
        "*This function should return a Series named `avgGDP` with 15 countries and their average GDP sorted in descending order.*"
      ]
    },
    {
      "cell_type": "code",
      "execution_count": 36,
      "metadata": {
        "id": "ysVm6olKP0AD",
        "colab": {
          "base_uri": "https://localhost:8080/",
          "height": 0
        },
        "outputId": "e5261aff-9b24-4dcf-bc2e-66540fae378e"
      },
      "outputs": [
        {
          "output_type": "stream",
          "name": "stdout",
          "text": [
            "Country\n",
            "United States         1.570403e+13\n",
            "China                 6.927702e+12\n",
            "Japan                 5.239642e+12\n",
            "Germany               3.523342e+12\n",
            "United Kingdom        2.792011e+12\n",
            "France                2.691337e+12\n",
            "Italy                 2.142986e+12\n",
            "Brazil                1.988889e+12\n",
            "Russian Federation    1.666746e+12\n",
            "Canada                1.616359e+12\n",
            "India                 1.602352e+12\n",
            "Spain                 1.400727e+12\n",
            "South Korea           1.221372e+12\n",
            "Australia             1.207106e+12\n",
            "Iran                  4.563261e+11\n",
            "dtype: float64\n"
          ]
        }
      ],
      "source": [
        "def answer_three():\n",
        "    Top15 = answer_one()\n",
        "    #select columns for last 10 years\n",
        "    years = [str(year) for year in range(2006, 2016)]\n",
        "\n",
        "    #calculate mean, exclude missing values\n",
        "    avgGDP = Top15[years].mean(axis=1).sort_values(ascending=False)\n",
        "\n",
        "    return avgGDP\n",
        "\n",
        "#get Series of average GDP\n",
        "avg_gdp_series = answer_three()\n",
        "print(avg_gdp_series)\n"
      ]
    },
    {
      "cell_type": "markdown",
      "metadata": {
        "id": "7PNwK7EdP0AE"
      },
      "source": [
        "## Question 4\n",
        "By how much had the GDP changed over the 10 year span for the country with the 6th largest average GDP?\n",
        "\n",
        "*This function should return a single number.*"
      ]
    },
    {
      "cell_type": "code",
      "execution_count": 39,
      "metadata": {
        "id": "aNK66nx2P0AF",
        "colab": {
          "base_uri": "https://localhost:8080/",
          "height": 0
        },
        "outputId": "628b4376-a147-480e-e43e-fe8dc9a51c6a"
      },
      "outputs": [
        {
          "output_type": "stream",
          "name": "stdout",
          "text": [
            "Country with the 6th largest average GDP: France\n",
            "GDP change from 2006 to 2015: 118652421857.7998\n"
          ]
        }
      ],
      "source": [
        "def answer_four():\n",
        "    Top15 = answer_one()\n",
        "    avg_gdp_series = answer_three()\n",
        "\n",
        "    #identify country with 6th largest average GDP\n",
        "    sixth_largest_gdp_country = avg_gdp_series.index[5]\n",
        "\n",
        "    #get GDP change for this country from 2006 to 2015\n",
        "    gdp_change = Top15.loc[sixth_largest_gdp_country, '2015'] - Top15.loc[sixth_largest_gdp_country, '2006']\n",
        "\n",
        "    return sixth_largest_gdp_country, gdp_change\n",
        "\n",
        "#call function\n",
        "country, gdp_change_sixth = answer_four()\n",
        "print(\"Country with the 6th largest average GDP:\", country)\n",
        "print(\"GDP change from 2006 to 2015:\", gdp_change_sixth)\n"
      ]
    },
    {
      "cell_type": "markdown",
      "metadata": {
        "id": "DZsrzkOmP0AG"
      },
      "source": [
        "## Question 5\n",
        "What is the mean `Energy Supply per Capita`?\n",
        "\n",
        "*This function should return a single number.*"
      ]
    },
    {
      "cell_type": "code",
      "execution_count": 40,
      "metadata": {
        "id": "osDPNB4fP0AH",
        "colab": {
          "base_uri": "https://localhost:8080/",
          "height": 0
        },
        "outputId": "df25fbfb-b8f3-4f7c-aeb6-fa012024fc2c"
      },
      "outputs": [
        {
          "output_type": "stream",
          "name": "stdout",
          "text": [
            "157.6\n"
          ]
        }
      ],
      "source": [
        "def answer_five():\n",
        "    Top15 = answer_one()\n",
        "\n",
        "    # get mean of 'Energy Supply per Capita' column\n",
        "    mean_energy_supply_per_capita = Top15['Energy Supply per Capita'].mean()\n",
        "\n",
        "    return mean_energy_supply_per_capita\n",
        "\n",
        "#call function\n",
        "mean_energy_supply_per_capita = answer_five()\n",
        "print(mean_energy_supply_per_capita)\n"
      ]
    },
    {
      "cell_type": "markdown",
      "source": [
        "# Answer: The mean Energy Supply per Capita is 157.6"
      ],
      "metadata": {
        "id": "3j21aqUk4KuK"
      }
    },
    {
      "cell_type": "markdown",
      "metadata": {
        "id": "puzjZyx1P0AH"
      },
      "source": [
        "## Question 6\n",
        "What country has the maximum `% Renewable` and what is the percentage?\n",
        "\n",
        "*This function should return a tuple with the name of the country and the percentage.*"
      ]
    },
    {
      "cell_type": "code",
      "execution_count": 41,
      "metadata": {
        "id": "nk8MCiqXP0AI",
        "colab": {
          "base_uri": "https://localhost:8080/",
          "height": 0
        },
        "outputId": "10472efe-2c4a-4204-ce62-1de21894deae"
      },
      "outputs": [
        {
          "output_type": "stream",
          "name": "stdout",
          "text": [
            "Brazil 69.64803\n"
          ]
        }
      ],
      "source": [
        "def answer_six():\n",
        "    Top15 = answer_one()\n",
        "\n",
        "    #find country with maximum % Renewable\n",
        "    max_renewable = Top15['% Renewable'].idxmax()\n",
        "    max_renewable_percentage = Top15.loc[max_renewable, '% Renewable']\n",
        "\n",
        "    return (max_renewable, max_renewable_percentage)\n",
        "\n",
        "#call function\n",
        "max_renewable_country, max_renewable_percentage = answer_six()\n",
        "print(max_renewable_country, max_renewable_percentage)\n"
      ]
    },
    {
      "cell_type": "markdown",
      "source": [
        "#Answer: The country with the maximum renewable % is Brazil with ~69.64%"
      ],
      "metadata": {
        "id": "JSlART-84W4s"
      }
    },
    {
      "cell_type": "markdown",
      "metadata": {
        "id": "ZQHIHSeMP0AI"
      },
      "source": [
        "## Question 7\n",
        "Create a new column that is the ratio of Self-Citations to Total Citations. What is the maximum value for this new column, and what country has the highest ratio?\n",
        "\n",
        "*This function should return a tuple with the name of the country and the ratio.*"
      ]
    },
    {
      "cell_type": "code",
      "execution_count": 42,
      "metadata": {
        "id": "Kxx5FOPMP0AI",
        "colab": {
          "base_uri": "https://localhost:8080/",
          "height": 0
        },
        "outputId": "5552db62-912d-4d4d-82c9-622a7f1156fc"
      },
      "outputs": [
        {
          "output_type": "stream",
          "name": "stdout",
          "text": [
            "China 0.689249218122882\n"
          ]
        }
      ],
      "source": [
        "def answer_seven():\n",
        "    Top15 = answer_one()\n",
        "\n",
        "    #create a column for ratio of Self-Citations to Total Citations\n",
        "    Top15['Citation Ratio'] = Top15['Self-citations'] / Top15['Citations']\n",
        "\n",
        "    #find country with maximum citation ratio\n",
        "    max_citation_ratio = Top15['Citation Ratio'].idxmax()\n",
        "    max_ratio = Top15.loc[max_citation_ratio, 'Citation Ratio']\n",
        "\n",
        "    return (max_citation_ratio, max_ratio)\n",
        "\n",
        "#call function\n",
        "country_with_max_ratio, max_ratio = answer_seven()\n",
        "print(country_with_max_ratio, max_ratio)\n"
      ]
    },
    {
      "cell_type": "markdown",
      "metadata": {
        "id": "mM1tYwkJP0AJ"
      },
      "source": [
        "## Question 8\n",
        "\n",
        "Create a column that estimates the population using `Energy Supply` and `Energy Supply per Capita`. What is the third most populous country according to this estimate?\n",
        "\n",
        "*This function should return a single string value.*"
      ]
    },
    {
      "cell_type": "code",
      "execution_count": 43,
      "metadata": {
        "id": "o8VIeq0NP0AJ",
        "colab": {
          "base_uri": "https://localhost:8080/",
          "height": 0
        },
        "outputId": "bc522fc3-a6ce-479a-9774-59c963a9f2dc"
      },
      "outputs": [
        {
          "output_type": "stream",
          "name": "stdout",
          "text": [
            "United States\n"
          ]
        }
      ],
      "source": [
        "def answer_eight():\n",
        "    Top15 = answer_one()\n",
        "\n",
        "    #estimate population\n",
        "    Top15['Estimated Population'] = Top15['Energy Supply'] / Top15['Energy Supply per Capita']\n",
        "\n",
        "    #sort by estimated population in descending order and get third country\n",
        "    third_most_populous = Top15.sort_values(by='Estimated Population', ascending=False).iloc[2].name\n",
        "\n",
        "    return third_most_populous\n",
        "\n",
        "#call function\n",
        "third_most_populous_country = answer_eight()\n",
        "print(third_most_populous_country)"
      ]
    },
    {
      "cell_type": "markdown",
      "metadata": {
        "id": "2pSsi8HIP0AJ"
      },
      "source": [
        "## Question 9\n",
        "Create a column that estimates the number of citable documents per person. What is the correlation between the number of citable documents per capita and the `Energy Supply per Capita`? Use the `.corr()` method, (Pearson's correlation), for the correlation.\n",
        "\n",
        "*This function should return a single number.*\n",
        "\n",
        "*(Optional: Use the built-in function `plot9()` to visualize the relationship between `Energy Supply per Capita` vs. `Citable docs per Capita`)*"
      ]
    },
    {
      "cell_type": "code",
      "execution_count": 48,
      "metadata": {
        "id": "JOzKzK66P0AJ",
        "colab": {
          "base_uri": "https://localhost:8080/",
          "height": 0
        },
        "outputId": "8ce1facf-5460-4a4c-dc7e-cb768274e231"
      },
      "outputs": [
        {
          "output_type": "stream",
          "name": "stdout",
          "text": [
            "Type of correlation result: <class 'numpy.float64'>\n",
            "Correlation value: 0.7114342527331208\n"
          ]
        }
      ],
      "source": [
        "def answer_nine():\n",
        "    Top15 = answer_one()\n",
        "\n",
        "    #ensure 'Energy Supply' & 'Energy Supply per Capita' are in float format\n",
        "    Top15['Energy Supply'] = pd.to_numeric(Top15['Energy Supply'], errors='coerce')\n",
        "    Top15['Energy Supply per Capita'] = pd.to_numeric(Top15['Energy Supply per Capita'], errors='coerce')\n",
        "\n",
        "    #estimate population\n",
        "    Top15['PopEst'] = Top15['Energy Supply'] / Top15['Energy Supply per Capita']\n",
        "\n",
        "    #calculate number of citable documents per person\n",
        "    Top15['Citable docs per Capita'] = Top15['Citable documents'] / Top15['PopEst']\n",
        "\n",
        "    #calculate correlation\n",
        "    correlation = Top15['Citable docs per Capita'].corr(Top15['Energy Supply per Capita'])\n",
        "\n",
        "    print(\"Type of correlation result:\", type(correlation))\n",
        "    return correlation\n",
        "\n",
        "correlation_value = answer_nine()\n",
        "print(\"Correlation value:\", correlation_value)"
      ]
    },
    {
      "cell_type": "markdown",
      "metadata": {
        "id": "w57TaAiNP0AJ"
      },
      "source": [
        "## Question 10\n",
        "Create a new column with a 1 if the country's `% Renewable` value is at or above the median for all countries in the top 15, and a 0 if the country's `% Renewable` value is below the median.\n",
        "\n",
        "*This function should return a series named `HighRenew` whose index is the country name sorted in ascending order of rank.*"
      ]
    },
    {
      "cell_type": "code",
      "execution_count": 50,
      "metadata": {
        "id": "j01YjcepP0AK",
        "colab": {
          "base_uri": "https://localhost:8080/",
          "height": 0
        },
        "outputId": "66b33fe7-90ac-4243-b81d-e198b3f50142"
      },
      "outputs": [
        {
          "output_type": "stream",
          "name": "stdout",
          "text": [
            "Country\n",
            "United States         0\n",
            "India                 0\n",
            "Japan                 0\n",
            "United Kingdom        0\n",
            "South Korea           0\n",
            "Iran                  0\n",
            "Australia             0\n",
            "China                 1\n",
            "Germany               1\n",
            "Russian Federation    1\n",
            "Canada                1\n",
            "Italy                 1\n",
            "France                1\n",
            "Spain                 1\n",
            "Brazil                1\n",
            "Name: HighRenew, dtype: int64\n"
          ]
        }
      ],
      "source": [
        "def answer_ten():\n",
        "    Top15 = answer_one()\n",
        "\n",
        "    #calculate median of '% Renewable' for all countries\n",
        "    median_renewable = Top15['% Renewable'].median()\n",
        "\n",
        "    #create a new column 'HighRenew'\n",
        "    # 1 if '% Renewable' is at or above median, 0 if below\n",
        "    Top15['HighRenew'] = (Top15['% Renewable'] >= median_renewable).astype(int)\n",
        "\n",
        "    #return 'HighRenew' column as a Series, sorted by rank\n",
        "    return Top15['HighRenew'].sort_values(ascending=True)\n",
        "\n",
        "#call function\n",
        "HighRenew = answer_ten()\n",
        "print(HighRenew)\n"
      ]
    },
    {
      "cell_type": "markdown",
      "metadata": {
        "id": "Hru5xS6_P0AK"
      },
      "source": [
        "## Question 11\n",
        "Use the following dictionary to group the Countries by Continent, then create a dataframe that displays the sample size (the number of countries in each continent bin), and the sum, mean, and std deviation for the estimated population of each country."
      ]
    },
    {
      "cell_type": "code",
      "execution_count": null,
      "metadata": {
        "id": "4rRPVWoZP0AK"
      },
      "outputs": [],
      "source": [
        "ContinentDict  = {'China':'Asia',\n",
        "                  'United States':'North America',\n",
        "                  'Japan':'Asia',\n",
        "                  'United Kingdom':'Europe',\n",
        "                  'Russian Federation':'Europe',\n",
        "                  'Canada':'North America',\n",
        "                  'Germany':'Europe',\n",
        "                  'India':'Asia',\n",
        "                  'France':'Europe',\n",
        "                  'South Korea':'Asia',\n",
        "                  'Italy':'Europe',\n",
        "                  'Spain':'Europe',\n",
        "                  'Iran':'Asia',\n",
        "                  'Australia':'Australia',\n",
        "                  'Brazil':'South America'}"
      ]
    },
    {
      "cell_type": "markdown",
      "metadata": {
        "id": "vnOpc2KiP0AK"
      },
      "source": [
        "*This function should return a DataFrame with index named Continent `['Asia', 'Australia', 'Europe', 'North America', 'South America']` and columns `['size', 'sum', 'mean', 'std']`*"
      ]
    },
    {
      "cell_type": "code",
      "execution_count": 51,
      "metadata": {
        "id": "RmnsfiXOP0AK",
        "colab": {
          "base_uri": "https://localhost:8080/",
          "height": 0
        },
        "outputId": "bc30015a-7331-4abd-f798-7db5e278b83b"
      },
      "outputs": [
        {
          "output_type": "stream",
          "name": "stdout",
          "text": [
            "               size               sum          mean           std\n",
            "Continent                                                        \n",
            "Asia              5   2898666386.6106  5.797333e+08  6.790979e+08\n",
            "Australia         1   23316017.316017  2.331602e+07           NaN\n",
            "Europe            6  457929667.216372  7.632161e+07  3.464767e+07\n",
            "North America     2   352855249.48025  1.764276e+08  1.996696e+08\n",
            "South America     1  205915254.237288  2.059153e+08           NaN\n"
          ]
        }
      ],
      "source": [
        "def answer_eleven():\n",
        "    Top15 = answer_one()\n",
        "\n",
        "    #dictionary mapping countries to continents\n",
        "    ContinentDict = {\n",
        "        'China':'Asia', 'United States':'North America', 'Japan':'Asia',\n",
        "        'United Kingdom':'Europe', 'Russian Federation':'Europe', 'Canada':'North America',\n",
        "        'Germany':'Europe', 'India':'Asia', 'France':'Europe',\n",
        "        'South Korea':'Asia', 'Italy':'Europe', 'Spain':'Europe',\n",
        "        'Iran':'Asia', 'Australia':'Australia', 'Brazil':'South America'\n",
        "    }\n",
        "\n",
        "    #estimate population for each country\n",
        "    Top15['PopEst'] = Top15['Energy Supply'] / Top15['Energy Supply per Capita']\n",
        "\n",
        "    #map countries to continents\n",
        "    Top15['Continent'] = Top15.index.to_series().map(ContinentDict)\n",
        "\n",
        "    #group by continent & calculate desired statistics\n",
        "    result = Top15.groupby('Continent')['PopEst'].agg(['size', 'sum', 'mean', 'std'])\n",
        "\n",
        "    return result\n",
        "\n",
        "#call function\n",
        "continent_stats = answer_eleven()\n",
        "print(continent_stats)"
      ]
    },
    {
      "cell_type": "markdown",
      "metadata": {
        "id": "ExBfPerxP0AK"
      },
      "source": [
        "## Question 12\n",
        "Cut `% Renewable` into 5 bins. Group Top15 by the Continent, as well as these new % Renewable bins. How many countries are in each of these groups?\n",
        "\n",
        "*This function should return a __Series__ with a MultiIndex of `Continent`, then the bins for `% Renewable`. Do not include groups with no countries.*"
      ]
    },
    {
      "cell_type": "code",
      "execution_count": 53,
      "metadata": {
        "id": "m_wSQIKyP0AK",
        "colab": {
          "base_uri": "https://localhost:8080/",
          "height": 0
        },
        "outputId": "42bd53db-afcd-4f1c-e41d-75c003a97397"
      },
      "outputs": [
        {
          "output_type": "stream",
          "name": "stdout",
          "text": [
            "Continent      % Renewable Bins\n",
            "Asia           (2.212, 15.753]     4\n",
            "               (15.753, 29.227]    1\n",
            "               (29.227, 42.701]    0\n",
            "               (42.701, 56.174]    0\n",
            "               (56.174, 69.648]    0\n",
            "Australia      (2.212, 15.753]     1\n",
            "               (15.753, 29.227]    0\n",
            "               (29.227, 42.701]    0\n",
            "               (42.701, 56.174]    0\n",
            "               (56.174, 69.648]    0\n",
            "Europe         (2.212, 15.753]     1\n",
            "               (15.753, 29.227]    3\n",
            "               (29.227, 42.701]    2\n",
            "               (42.701, 56.174]    0\n",
            "               (56.174, 69.648]    0\n",
            "North America  (2.212, 15.753]     1\n",
            "               (15.753, 29.227]    0\n",
            "               (29.227, 42.701]    0\n",
            "               (42.701, 56.174]    0\n",
            "               (56.174, 69.648]    1\n",
            "South America  (2.212, 15.753]     0\n",
            "               (15.753, 29.227]    0\n",
            "               (29.227, 42.701]    0\n",
            "               (42.701, 56.174]    0\n",
            "               (56.174, 69.648]    1\n",
            "dtype: int64\n"
          ]
        }
      ],
      "source": [
        "def answer_twelve():\n",
        "    Top15 = answer_one()\n",
        "\n",
        "    #dictionary mapping countries to continents\n",
        "    ContinentDict = {\n",
        "        'China':'Asia', 'United States':'North America', 'Japan':'Asia',\n",
        "        'United Kingdom':'Europe', 'Russian Federation':'Europe', 'Canada':'North America',\n",
        "        'Germany':'Europe', 'India':'Asia', 'France':'Europe',\n",
        "        'South Korea':'Asia', 'Italy':'Europe', 'Spain':'Europe',\n",
        "        'Iran':'Asia', 'Australia':'Australia', 'Brazil':'South America'\n",
        "    }\n",
        "\n",
        "    #assigning countries to continents\n",
        "    Top15['Continent'] = Top15.index.to_series().map(ContinentDict)\n",
        "\n",
        "    #creating bins for '% Renewable'\n",
        "    Top15['% Renewable Bins'] = pd.cut(Top15['% Renewable'], 5)\n",
        "\n",
        "    #group by Continent and '% Renewable' bins, then count the number of countries\n",
        "    result = Top15.groupby(['Continent', '% Renewable Bins']).size()\n",
        "\n",
        "    return result\n",
        "\n",
        "#call function\n",
        "continent_renewable_bins = answer_twelve()\n",
        "print(continent_renewable_bins)"
      ]
    },
    {
      "cell_type": "markdown",
      "metadata": {
        "id": "OjkX73eLP0AK"
      },
      "source": [
        "## Question 13\n",
        "Convert the Population Estimate series to a string with thousands separator (using commas). Do not round the results.\n",
        "\n",
        "e.g. 317615384.61538464 -> 317,615,384.61538464\n",
        "\n",
        "*This function should return a Series `PopEst` whose index is the country name and whose values are the population estimate string.*"
      ]
    },
    {
      "cell_type": "code",
      "execution_count": 54,
      "metadata": {
        "id": "AqhBY9k6P0AK",
        "colab": {
          "base_uri": "https://localhost:8080/",
          "height": 0
        },
        "outputId": "922d8170-9c3e-46e1-8819-28bee02b232d"
      },
      "outputs": [
        {
          "output_type": "stream",
          "name": "stdout",
          "text": [
            "Country\n",
            "China                 1,367,645,161.2903225\n",
            "United States          317,615,384.61538464\n",
            "India                 1,276,730,769.2307692\n",
            "Japan                  127,409,395.97315437\n",
            "United Kingdom         63,870,967.741935484\n",
            "Germany                 80,369,696.96969697\n",
            "Russian Federation            143,500,000.0\n",
            "Canada                  35,239,864.86486486\n",
            "Italy                  59,908,256.880733944\n",
            "South Korea            49,805,429.864253394\n",
            "Iran                    77,075,630.25210084\n",
            "France                  63,837,349.39759036\n",
            "Spain                    46,443,396.2264151\n",
            "Australia              23,316,017.316017315\n",
            "Brazil                 205,915,254.23728815\n",
            "Name: PopEst, dtype: object\n"
          ]
        }
      ],
      "source": [
        "def answer_thirteen():\n",
        "    Top15 = answer_one()\n",
        "\n",
        "    #estimate population\n",
        "    Top15['PopEst'] = Top15['Energy Supply'] / Top15['Energy Supply per Capita']\n",
        "\n",
        "    #convert population estimate to string with commas\n",
        "    Top15['PopEst'] = Top15['PopEst'].apply(lambda x: \"{:,}\".format(x))\n",
        "\n",
        "    return Top15['PopEst']\n",
        "\n",
        "#call function\n",
        "PopEst = answer_thirteen()\n",
        "print(PopEst)"
      ]
    },
    {
      "cell_type": "markdown",
      "metadata": {
        "id": "Fu2mHkKMP0AK"
      },
      "source": [
        "## Optional\n",
        "\n",
        "Use the built in function `plot_optional()` to see an example visualization."
      ]
    },
    {
      "cell_type": "code",
      "execution_count": 55,
      "metadata": {
        "id": "w_0fVaiMP0AL",
        "colab": {
          "base_uri": "https://localhost:8080/",
          "height": 523
        },
        "outputId": "ae60a0ee-ca23-4ca3-884a-188837773b2e"
      },
      "outputs": [
        {
          "output_type": "stream",
          "name": "stdout",
          "text": [
            "This is an example of a visualization that can be created to help understand the data. This is a bubble chart showing % Renewable vs. Rank. The size of the bubble corresponds to the countries' 2014 GDP, and the color corresponds to the continent.\n"
          ]
        },
        {
          "output_type": "display_data",
          "data": {
            "text/plain": [
              "<Figure size 1600x600 with 1 Axes>"
            ],
            "image/png": "[encoded data removed]"
          },
          "metadata": {}
        }
      ],
      "source": [
        "def plot_optional():\n",
        "    import matplotlib as plt\n",
        "    %matplotlib inline\n",
        "    Top15 = answer_one()\n",
        "    ax = Top15.plot(x='Rank', y='% Renewable', kind='scatter',\n",
        "                    c=['#e41a1c','#377eb8','#e41a1c','#4daf4a','#4daf4a','#377eb8','#4daf4a','#e41a1c',\n",
        "                       '#4daf4a','#e41a1c','#4daf4a','#4daf4a','#e41a1c','#dede00','#ff7f00'],\n",
        "                    xticks=range(1,16), s=6*Top15['2014']/10**10, alpha=.75, figsize=[16,6]);\n",
        "\n",
        "    for i, txt in enumerate(Top15.index):\n",
        "        ax.annotate(txt, [Top15['Rank'][i], Top15['% Renewable'][i]], ha='center')\n",
        "\n",
        "    print(\"This is an example of a visualization that can be created to help understand the data. \\\n",
        "This is a bubble chart showing % Renewable vs. Rank. The size of the bubble corresponds to the countries' \\\n",
        "2014 GDP, and the color corresponds to the continent.\")\n",
        "\n",
        "plot_optional() # Be sure to comment out plot_optional() before submitting the assignment!"
      ]
    }
  ],
  "metadata": {
    "language_info": {
      "name": "python"
    },
    "colab": {
      "provenance": []
    },
    "kernelspec": {
      "name": "python3",
      "display_name": "Python 3"
    }
  },
  "nbformat": 4,
  "nbformat_minor": 0
}